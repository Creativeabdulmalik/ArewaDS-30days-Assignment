{
 "cells": [
  {
   "cell_type": "markdown",
   "metadata": {},
   "source": [
    "# EXERCISE MODULE_3"
   ]
  },
  {
   "cell_type": "code",
   "execution_count": null,
   "metadata": {},
   "outputs": [],
   "source": [
    "# DECLARE AGE AS INTEGER\n",
    "age = 26\n",
    "print(type(age))\n",
    "\n",
    "# Declare height AS FLOAT\n",
    "height = 7.6\n",
    "print (type(height))\n",
    "\n",
    "#complex number\n",
    "complex_num = (10 + 20j)\n",
    "print({type(complex_num)})"
   ]
  },
  {
   "cell_type": "code",
   "execution_count": null,
   "metadata": {},
   "outputs": [],
   "source": [
    "# calculate an area of this triangle (area = 0.5 x b x h)\n",
    "base = 20\n",
    "height = 10\n",
    "\n",
    "area = 0.5 * 20 * 10\n",
    "\n",
    "print(area)\n",
    "\n"
   ]
  },
  {
   "cell_type": "code",
   "execution_count": null,
   "metadata": {},
   "outputs": [],
   "source": [
    "#calculate perimeter of triangle\n",
    "a = 5\n",
    "b = 4\n",
    "c = 3\n",
    "\n",
    "triangle = 5 + 4 + 3\n",
    "\n",
    "print(triangle)\n"
   ]
  },
  {
   "cell_type": "code",
   "execution_count": null,
   "metadata": {},
   "outputs": [],
   "source": [
    "# find rectangle length and width and calculate area\n",
    "length = 10\n",
    "width = 20\n",
    "\n",
    "# calculate area\n",
    "\n",
    "area = 2 * 10 + 20\n",
    "\n",
    "print(area)\n"
   ]
  },
  {
   "cell_type": "code",
   "execution_count": null,
   "metadata": {},
   "outputs": [],
   "source": [
    "# find radius and calculate area and circuimference\n",
    "radius = 20\n",
    "pi = 3.14\n",
    "\n",
    "area = 3.14 * 20 * 20\n",
    "print(area)\n",
    "\n",
    "# circuimference\n",
    "circuimference = 2 * 3.14 * 20\n",
    "\n",
    "print(circuimference)"
   ]
  },
  {
   "cell_type": "code",
   "execution_count": null,
   "metadata": {},
   "outputs": [],
   "source": [
    "# Calculate the slope, x-intercept and y-intercept of y = 2x -y = 2x - 2\n",
    "\n",
    "slope = 2\n",
    "y_intercept = -2\n",
    "\n",
    "# X-Intercept: Solve y = 0\n",
    "x_intercept = -y_intercept / slope  # x = -c / m\n",
    "\n",
    "print(slope)\n",
    "print(x_intercept)\n",
    "print(y_intercept)\n",
    "\n"
   ]
  },
  {
   "cell_type": "code",
   "execution_count": null,
   "metadata": {},
   "outputs": [],
   "source": [
    "#find calculate slope(m) and euclidean distance\n",
    "import math\n",
    "\n",
    "x1, y1 = 2, 2\n",
    "x2, y2 = 6, 10\n",
    "\n",
    "# Calculate slope\n",
    "slope = (y2 - y1) / (x2 - x1)\n",
    "\n",
    "# Calculate Euclidean distance\n",
    "distance = math.sqrt((x2 - x1)**2 + (y2 - y1)**2)\n",
    "\n",
    "print(f\"Slope (m): {slope}\")\n",
    "print(f\"Euclidean Distance: {distance:.2f}\")\n"
   ]
  },
  {
   "cell_type": "markdown",
   "metadata": {},
   "source": [
    "#### comparison between slope 8 and 9\n",
    "Comparison of Slopes 8 and 9\n",
    "\n",
    "Task 8: The slope of \n",
    "\n",
    "𝑦 = 2 𝑥 − 2\n",
    "y=2x−2 is 2.\n",
    "\n",
    "Task 9: \n",
    "\n",
    "The slope between points (2, 2) and (6, 10) is also 2.\n",
    "\n",
    "The slopes are equal. This confirms that, the line passes through the points (2, 2) and (6, 10)."
   ]
  },
  {
   "cell_type": "code",
   "execution_count": null,
   "metadata": {},
   "outputs": [],
   "source": [
    "# to define the quadratic function\n",
    "def quadratic(x):\n",
    "    return x**2 + 6*x + 9\n",
    "\n",
    "# to test with different x values\n",
    "x_values = [-5, -4, -3, -2, -1, 0, 1]\n",
    "results = {x: quadratic(x) for x in x_values}\n",
    "\n",
    "print(\"x values and corresponding y values:\")\n",
    "for x, y in results.items():\n",
    "    print(f\"x = {x}, y = {y}\")\n",
    "\n",
    "# Reason where y = 0\n",
    "x_for_y_zero = -3\n",
    "print(f\"\\nWhen x = {x_for_y_zero}, y = 0\")\n"
   ]
  },
  {
   "cell_type": "code",
   "execution_count": null,
   "metadata": {},
   "outputs": [],
   "source": [
    "## FALSY STATEMENT\n",
    "\n",
    "# strings to make fasly statement\n",
    "a = \"python\"\n",
    "b = \"dragon\"\n",
    "\n",
    "  # to find the Lengths of strings\n",
    "len_a = len(a)\n",
    "len_b= len(b)\n",
    "\n",
    "# Falsy comparison\n",
    "falsy_statement = len_a != len_b\n",
    "\n",
    "print(f\"Length of '{\"python\"}': {len_a}\")\n",
    "print(f\"Length of '{\"dragon\"}': {len_b}\")\n",
    "print(f\"Falsy Comparison (len('python') != len('dragon')): {falsy_statement}\")\n"
   ]
  },
  {
   "cell_type": "code",
   "execution_count": null,
   "metadata": {},
   "outputs": [],
   "source": [
    "# To check if and operator is on found in both strings\n",
    "a = \"python\"\n",
    "a = \"dragon\"\n",
    "\n",
    "check_on = 'on' in a and 'on' in b\n",
    "\n",
    "print(f\"Is 'on' found in both '{a}' and '{b}'? {check_on}\")\n"
   ]
  },
  {
   "cell_type": "code",
   "execution_count": null,
   "metadata": {},
   "outputs": [],
   "source": [
    "## I hope this course is not full of jargon. Use in operator to check if jargon is in the sentence\n",
    "statement_jargon = (\"i hope this course is not full of jargon\")\n",
    "\n",
    "check_jargon = 'jargon' in statement_jargon\n",
    "\n",
    "print(check_jargon)\n",
    "\n",
    "sentence = \"I hope this course is not full of jargon.\"\n",
    "\n",
    "# Check if 'jargon' is in the sentence\n",
    "check_jargon = 'jargon' in sentence\n",
    "\n",
    "\n",
    "print(f\"Is 'jargon' in the sentence? {check_jargon}\")"
   ]
  },
  {
   "cell_type": "code",
   "execution_count": null,
   "metadata": {},
   "outputs": [],
   "source": [
    "# Strings to check\n",
    "w_1 = \"python\"\n",
    "w_2 = \"dragon\"\n",
    "\n",
    "# Check if 'on' is in both words\n",
    "check_on = 'on' in w_1 and 'on' in w_2\n",
    "\n",
    "print(f\"Is 'on' found in both '{w_1}' and '{w_2}'? {check_on}\")\n"
   ]
  },
  {
   "cell_type": "code",
   "execution_count": null,
   "metadata": {},
   "outputs": [],
   "source": [
    "# Find the length of the text 'python'\n",
    "\n",
    "text = \"python\"\n",
    "length = len(text)\n",
    "\n",
    "# Convert the length to a float\n",
    "length_as_float = float(length)\n",
    "\n",
    "# Convert the float value to a string\n",
    "length_as_string = str(length_as_float)\n",
    "\n",
    "print(f\"Length of 'python': {length}\")\n",
    "print(f\"Length as float: {length_as_float}\")\n",
    "print(f\"Length as string: {length_as_string}\")\n",
    "\n"
   ]
  },
  {
   "cell_type": "code",
   "execution_count": null,
   "metadata": {},
   "outputs": [],
   "source": [
    "# TO Check if a number is even\n",
    "number = int('8')\n",
    "\n",
    "if number % 2 == 0:\n",
    "    print(f\"{number} is an even number.\")\n",
    "else:\n",
    "    print(f\"{number} is not an even number.\")\n"
   ]
  },
  {
   "cell_type": "code",
   "execution_count": null,
   "metadata": {},
   "outputs": [],
   "source": [
    "## Check if the floor division of 7 by 3 is equal to the int converted value of 2.7\n",
    "floor_div_result = 7 // 3\n",
    "int_value = int(2.7)\n",
    "\n",
    "#  equality of floor division\n",
    "is_equal = floor_div_result == int_value\n",
    "\n",
    "print(f\"Floor division of 7 by 3: {floor_div_result}\")\n",
    "print(f\"Integer converted value of 2.7: {int_value}\")\n",
    "print(f\"Are they equal? {is_equal}\")\n"
   ]
  },
  {
   "cell_type": "code",
   "execution_count": null,
   "metadata": {},
   "outputs": [],
   "source": [
    "# Variables\n",
    "string_value = '10'\n",
    "int_value = 10\n",
    "\n",
    "are_types_equal = type(string_value) == type(int_value)\n",
    "\n",
    "print(f\"Type of '10': {type(string_value)}\")\n",
    "print(f\"Type of 10: {type(int_value)}\")\n",
    "print(f\"Are the types equal? {are_types_equal}\")\n"
   ]
  },
  {
   "cell_type": "code",
   "execution_count": null,
   "metadata": {},
   "outputs": [],
   "source": [
    "## Check if int('9.8') is equal to 10\n",
    "str = '10'\n",
    "int_value = '9.8'\n",
    "try:\n",
    "    # Attempt to convert '9.8' directly to an integer\n",
    "    value = int('9.8')\n",
    "except ValueError:\n",
    "    print(\"'9.8' cannot be converted directly to an integer.\")\n",
    "    \n",
    "# Alternative approach: Convert to float first, then to int\n",
    "converted_value = int(float('9.8'))\n",
    "comparison = converted_value == 10\n",
    "\n",
    "print(f\"Converted value of '9.8' to int: {converted_value}\")\n",
    "print(f\"Is the converted value equal to 10? {comparison}\")\n",
    "\n"
   ]
  },
  {
   "cell_type": "code",
   "execution_count": null,
   "metadata": {},
   "outputs": [],
   "source": [
    "# Prompt user for hours worked and rate per hour\n",
    "hours = 40\n",
    "rate_per_hour = 28\n",
    "\n",
    "# TO Calculate weekly pay\n",
    "weekly_earning = hours * rate_per_hour\n",
    "\n",
    "print(f\"Your weekly earning is {weekly_earning}\")\n"
   ]
  },
  {
   "cell_type": "code",
   "execution_count": null,
   "metadata": {},
   "outputs": [],
   "source": [
    "# TO Prompt user to enter the number of years they have lived\n",
    "years_lived = int(26)\n",
    "\n",
    "seconds_in_a_year = 365 * 24 * 60 * 60\n",
    "total_seconds = years_lived * seconds_in_a_year\n",
    "\n",
    "print(f\"You have lived for {total_seconds} seconds.\")\n"
   ]
  },
  {
   "cell_type": "code",
   "execution_count": null,
   "metadata": {},
   "outputs": [],
   "source": [
    "# Print the header\n",
    "print(f\"{'Number':<5} {'|':<2} {'Power 0':<5} {'|':<2} {'Power 1':<5} {'|':<2} {'Power 2':<5} {'|':<2} {'Power 3':<5}\")\n",
    "\n",
    "# print rows\n",
    "for number in range(1, 6):\n",
    "    power_0 = 1\n",
    "    power_1 = number\n",
    "    power_2 = number ** 2\n",
    "    power_3 = number ** 3\n",
    "    print(f\"{number:<5} {'|':<2} {power_0:<5} {'|':<2} {power_1:<5} {'|':<2} {power_2:<5} {'|':<2} {power_3:<5}\")\n"
   ]
  }
 ],
 "metadata": {
  "kernelspec": {
   "display_name": "ArewaDs-Training",
   "language": "python",
   "name": "python3"
  },
  "language_info": {
   "codemirror_mode": {
    "name": "ipython",
    "version": 3
   },
   "file_extension": ".py",
   "mimetype": "text/x-python",
   "name": "python",
   "nbconvert_exporter": "python",
   "pygments_lexer": "ipython3",
   "version": "3.12.7"
  }
 },
 "nbformat": 4,
 "nbformat_minor": 2
}
