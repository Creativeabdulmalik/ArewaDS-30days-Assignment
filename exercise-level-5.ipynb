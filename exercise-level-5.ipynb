{
 "cells": [
  {
   "cell_type": "markdown",
   "metadata": {},
   "source": [
    "# EXERCISE MODULE_5"
   ]
  },
  {
   "cell_type": "markdown",
   "metadata": {},
   "source": [
    "1. Declare an empty list\n"
   ]
  },
  {
   "cell_type": "code",
   "execution_count": null,
   "metadata": {},
   "outputs": [],
   "source": [
    "empty_list = [ ]\n",
    "\n",
    "print(empty_list)"
   ]
  },
  {
   "cell_type": "markdown",
   "metadata": {},
   "source": [
    "2.Declare a list with more than 5 items"
   ]
  },
  {
   "cell_type": "code",
   "execution_count": 47,
   "metadata": {},
   "outputs": [
    {
     "name": "stdout",
     "output_type": "stream",
     "text": [
      "('jeans', 't_shirts', 'sheos', 'caps', 'perfumes')\n"
     ]
    }
   ],
   "source": [
    "mall_list ='jeans', 't_shirts', 'sheos', 'caps', 'perfumes'\n",
    "\n",
    "print(mall_list)\n"
   ]
  },
  {
   "cell_type": "markdown",
   "metadata": {},
   "source": [
    "3 . Find the length of your list"
   ]
  },
  {
   "cell_type": "code",
   "execution_count": 54,
   "metadata": {},
   "outputs": [
    {
     "name": "stdout",
     "output_type": "stream",
     "text": [
      "number of mall_list: 5\n"
     ]
    }
   ],
   "source": [
    "mall_list ='jeans', 't_shirts', 'sheos', 'caps', 'perfumes'\n",
    "\n",
    "print('number of mall_list:', len(mall_list))"
   ]
  },
  {
   "cell_type": "markdown",
   "metadata": {},
   "source": [
    "4. Get the first item, the middle item and the last item of the list"
   ]
  },
  {
   "cell_type": "code",
   "execution_count": 67,
   "metadata": {},
   "outputs": [
    {
     "name": "stdout",
     "output_type": "stream",
     "text": [
      "jeans\n",
      "sheos\n",
      "perfumes\n"
     ]
    }
   ],
   "source": [
    "mall_list ='jeans', 't_shirts', 'sheos', 'caps', 'perfumes'\n",
    "\n",
    "first_mall_list = mall_list [0]\n",
    "print(first_mall_list)\n",
    "\n",
    "middle_mall_list = mall_list [2]\n",
    "print(middle_mall_list)\n",
    "\n",
    "last_mall_list = mall_list [4]\n",
    "print(last_mall_list)"
   ]
  },
  {
   "cell_type": "markdown",
   "metadata": {},
   "source": [
    "5. Declare a list called mixed_data_types, put your(name, age, height, marital status, address)"
   ]
  },
  {
   "cell_type": "code",
   "execution_count": 73,
   "metadata": {},
   "outputs": [],
   "source": [
    "mixed_data = ['Abdulmalik','26', '17', 'single', 'dutse_jigawa']\n"
   ]
  },
  {
   "cell_type": "markdown",
   "metadata": {},
   "source": [
    "   6.Declare a list variable named it_companies and assign initial values Facebook, Google, Microsoft, Apple, IBM, Oracle and Amazon."
   ]
  },
  {
   "cell_type": "code",
   "execution_count": 71,
   "metadata": {},
   "outputs": [],
   "source": [
    "it_companies = 'facebook','google','microsoft','apple','IBM','Oracle','Amazon'\n"
   ]
  },
  {
   "cell_type": "markdown",
   "metadata": {},
   "source": [
    "   7.Print the list using print()"
   ]
  },
  {
   "cell_type": "code",
   "execution_count": 72,
   "metadata": {},
   "outputs": [
    {
     "name": "stdout",
     "output_type": "stream",
     "text": [
      "('facebook', 'google', 'microsoft', 'apple', 'IBM', 'Oracle', 'Amazon')\n"
     ]
    }
   ],
   "source": [
    "print(it_companies)"
   ]
  },
  {
   "cell_type": "markdown",
   "metadata": {},
   "source": [
    "8.Print the number of companies in the list"
   ]
  },
  {
   "cell_type": "code",
   "execution_count": 75,
   "metadata": {},
   "outputs": [
    {
     "name": "stdout",
     "output_type": "stream",
     "text": [
      "number of companies: 7\n"
     ]
    }
   ],
   "source": [
    "print('number of companies:', len(it_companies))"
   ]
  },
  {
   "cell_type": "markdown",
   "metadata": {},
   "source": [
    "9.Print the first, middle and last company"
   ]
  },
  {
   "cell_type": "code",
   "execution_count": 79,
   "metadata": {},
   "outputs": [
    {
     "name": "stdout",
     "output_type": "stream",
     "text": [
      "facebook\n",
      "apple\n",
      "Amazon\n"
     ]
    }
   ],
   "source": [
    "first_it_companies = it_companies[0]\n",
    "print(first_it_companies)\n",
    "\n",
    "first_it_companies = it_companies[3]\n",
    "print(first_it_companies)\n",
    "\n",
    "first_it_companies = it_companies[6]\n",
    "print(first_it_companies)"
   ]
  },
  {
   "cell_type": "markdown",
   "metadata": {},
   "source": [
    "10.Print the list after modifying one of the companies\n",
    "\n"
   ]
  },
  {
   "cell_type": "code",
   "execution_count": 104,
   "metadata": {},
   "outputs": [
    {
     "name": "stdout",
     "output_type": "stream",
     "text": [
      "['3plus', 'google', 'microsoft', 'apple', 'IBM', 'Oracle', 'Amazon']\n"
     ]
    }
   ],
   "source": [
    "it_companies = ['facebook','google','microsoft','apple','IBM','Oracle','Amazon']\n",
    "it_companies[0] = '3plus'\n",
    "print(it_companies)\n"
   ]
  },
  {
   "cell_type": "markdown",
   "metadata": {},
   "source": [
    "11.Add an IT company to it_companies"
   ]
  },
  {
   "cell_type": "code",
   "execution_count": 110,
   "metadata": {},
   "outputs": [
    {
     "name": "stdout",
     "output_type": "stream",
     "text": [
      "['facebook', 'google', 'microsoft', 'apple', 'IBM', 'Oracle', 'Amazon', 'telsa']\n"
     ]
    }
   ],
   "source": [
    "it_companies = ['facebook','google','microsoft','apple','IBM','Oracle','Amazon']\n",
    "\n",
    "it_companies.append('telsa')\n",
    "\n",
    "print(it_companies)"
   ]
  },
  {
   "cell_type": "markdown",
   "metadata": {},
   "source": [
    "12.Insert an IT company in the middle of the companies list"
   ]
  },
  {
   "cell_type": "code",
   "execution_count": 114,
   "metadata": {},
   "outputs": [
    {
     "name": "stdout",
     "output_type": "stream",
     "text": [
      "['facebook', 'google', 'microsoft', 'apple', 'tesla', 'IBM', 'Oracle', 'Amazon']\n"
     ]
    }
   ],
   "source": [
    "it_companies = ['facebook','google','microsoft','apple','IBM','Oracle','Amazon']\n",
    "\n",
    "it_companies.insert(4, 'tesla')\n",
    "\n",
    "print(it_companies)"
   ]
  },
  {
   "cell_type": "markdown",
   "metadata": {},
   "source": [
    "13.Change one of the it_companies names to uppercase (IBM excluded!)"
   ]
  },
  {
   "cell_type": "code",
   "execution_count": 120,
   "metadata": {},
   "outputs": [
    {
     "data": {
      "text/plain": [
       "'FACEBOOK'"
      ]
     },
     "execution_count": 120,
     "metadata": {},
     "output_type": "execute_result"
    }
   ],
   "source": [
    "it_companies = ['facebook','google','microsoft','apple','IBM','Oracle','Amazon']\n",
    "\n",
    "it_companies[0].upper()"
   ]
  },
  {
   "cell_type": "markdown",
   "metadata": {},
   "source": [
    "14.Join the it_companies with a string '#;'"
   ]
  },
  {
   "cell_type": "code",
   "execution_count": 123,
   "metadata": {},
   "outputs": [
    {
     "name": "stdout",
     "output_type": "stream",
     "text": [
      "Google#;Facebook#;Microsoft#;Apple#;Amazon\n"
     ]
    }
   ],
   "source": [
    "it_companies = [\"Google\", \"Facebook\", \"Microsoft\", \"Apple\", \"Amazon\"]\n",
    "joined_string = '#;'.join(it_companies)\n",
    "print(joined_string)\n"
   ]
  },
  {
   "cell_type": "markdown",
   "metadata": {},
   "source": [
    "15.Check if a certain company exists in the it_companies list."
   ]
  },
  {
   "cell_type": "code",
   "execution_count": 126,
   "metadata": {},
   "outputs": [
    {
     "name": "stdout",
     "output_type": "stream",
     "text": [
      "True\n"
     ]
    }
   ],
   "source": [
    "it_companies = [\"Google\", \"Facebook\", \"Microsoft\", \"Apple\", \"Amazon\"]\n",
    "\n",
    "does_exits = 'Microsoft' in it_companies\n",
    "\n",
    "print(does_exits)"
   ]
  },
  {
   "cell_type": "markdown",
   "metadata": {},
   "source": [
    "16.Sort the list using sort() method"
   ]
  },
  {
   "cell_type": "code",
   "execution_count": 129,
   "metadata": {},
   "outputs": [
    {
     "name": "stdout",
     "output_type": "stream",
     "text": [
      "['Amazon', 'Apple', 'Facebook', 'Google', 'Microsoft']\n"
     ]
    }
   ],
   "source": [
    "it_companies = [\"Google\", \"Facebook\", \"Microsoft\", \"Apple\", \"Amazon\"]\n",
    "\n",
    "it_companies.sort()\n",
    "\n",
    "print(it_companies)"
   ]
  },
  {
   "cell_type": "markdown",
   "metadata": {},
   "source": [
    "17.Reverse the list in descending order using reverse() method\n",
    "\n"
   ]
  },
  {
   "cell_type": "code",
   "execution_count": 132,
   "metadata": {},
   "outputs": [
    {
     "name": "stdout",
     "output_type": "stream",
     "text": [
      "['Microsoft', 'Google', 'Facebook', 'Apple', 'Amazon']\n"
     ]
    }
   ],
   "source": [
    "it_companies = [\"Google\", \"Facebook\", \"Microsoft\", \"Apple\", \"Amazon\"]\n",
    "\n",
    "it_companies.sort(reverse='true')\n",
    "\n",
    "print(it_companies)"
   ]
  },
  {
   "cell_type": "markdown",
   "metadata": {},
   "source": [
    "18.Slice out the first 3 companies from the list"
   ]
  },
  {
   "cell_type": "code",
   "execution_count": 133,
   "metadata": {},
   "outputs": [
    {
     "name": "stdout",
     "output_type": "stream",
     "text": [
      "['Google', 'Facebook', 'Microsoft']\n"
     ]
    }
   ],
   "source": [
    "it_companies = [\"Google\", \"Facebook\", \"Microsoft\", \"Apple\", \"Amazon\"]\n",
    "\n",
    "first_three_companies = it_companies[:3]\n",
    "print(first_three_companies)\n"
   ]
  },
  {
   "cell_type": "markdown",
   "metadata": {},
   "source": [
    "19.Slice out the last 3 companies from the list\n",
    "\n"
   ]
  },
  {
   "cell_type": "code",
   "execution_count": 135,
   "metadata": {},
   "outputs": [
    {
     "name": "stdout",
     "output_type": "stream",
     "text": [
      "['Microsoft', 'Apple', 'Amazon']\n"
     ]
    }
   ],
   "source": [
    "it_companies = [\"Google\", \"Facebook\", \"Microsoft\", \"Apple\", \"Amazon\"]\n",
    "first_three_companies = it_companies[-3:]\n",
    "print(first_three_companies)"
   ]
  },
  {
   "cell_type": "markdown",
   "metadata": {},
   "source": [
    "20.Slice out the middle IT company or companies from the list"
   ]
  },
  {
   "cell_type": "code",
   "execution_count": 140,
   "metadata": {},
   "outputs": [
    {
     "name": "stdout",
     "output_type": "stream",
     "text": [
      "Microsoft\n"
     ]
    }
   ],
   "source": [
    "it_companies = [\"Google\", \"Facebook\", \"Microsoft\", \"Apple\", \"Amazon\"]\n",
    "first_three_companies = it_companies[2]\n",
    "print(first_three_companies)"
   ]
  },
  {
   "cell_type": "markdown",
   "metadata": {},
   "source": [
    "21.Remove the first IT company from the list"
   ]
  },
  {
   "cell_type": "code",
   "execution_count": 160,
   "metadata": {},
   "outputs": [
    {
     "name": "stdout",
     "output_type": "stream",
     "text": [
      "['Facebook', 'Microsoft', 'Apple', 'Amazon']\n"
     ]
    }
   ],
   "source": [
    "it_companies = [\"Google\", \"Facebook\", \"Microsoft\", \"Apple\", \"Amazon\"]\n",
    "it_companies.remove('Google')\n",
    "print(it_companies)\n"
   ]
  },
  {
   "cell_type": "markdown",
   "metadata": {},
   "source": [
    "22.Remove the middle IT company or companies from the list\n",
    "\n"
   ]
  },
  {
   "cell_type": "code",
   "execution_count": 161,
   "metadata": {},
   "outputs": [
    {
     "name": "stdout",
     "output_type": "stream",
     "text": [
      "['Google', 'Facebook', 'Apple', 'Amazon']\n"
     ]
    }
   ],
   "source": [
    "it_companies = [\"Google\", \"Facebook\", \"Microsoft\", \"Apple\", \"Amazon\"]\n",
    "it_companies.remove('Microsoft')\n",
    "print(it_companies)"
   ]
  },
  {
   "cell_type": "markdown",
   "metadata": {},
   "source": [
    "23.Remove the last IT company from the list"
   ]
  },
  {
   "cell_type": "code",
   "execution_count": 162,
   "metadata": {},
   "outputs": [
    {
     "name": "stdout",
     "output_type": "stream",
     "text": [
      "['Google', 'Facebook', 'Microsoft', 'Apple']\n"
     ]
    }
   ],
   "source": [
    "it_companies = [\"Google\", \"Facebook\", \"Microsoft\", \"Apple\", \"Amazon\"]\n",
    "\n",
    "it_companies.remove('Amazon')\n",
    "print(it_companies)"
   ]
  },
  {
   "cell_type": "markdown",
   "metadata": {},
   "source": [
    "24.Remove all IT companies from the list"
   ]
  },
  {
   "cell_type": "code",
   "execution_count": 169,
   "metadata": {},
   "outputs": [],
   "source": [
    "it_companies = [\"Google\", \"Facebook\", \"Microsoft\", \"Apple\", \"Amazon\"]\n",
    "\n",
    "del it_companies\n"
   ]
  },
  {
   "cell_type": "markdown",
   "metadata": {},
   "source": [
    "25.Destroy the IT companies list"
   ]
  },
  {
   "cell_type": "code",
   "execution_count": 170,
   "metadata": {},
   "outputs": [
    {
     "ename": "NameError",
     "evalue": "name 'it_companies' is not defined",
     "output_type": "error",
     "traceback": [
      "\u001b[1;31m---------------------------------------------------------------------------\u001b[0m",
      "\u001b[1;31mNameError\u001b[0m                                 Traceback (most recent call last)",
      "Cell \u001b[1;32mIn[170], line 4\u001b[0m\n\u001b[0;32m      1\u001b[0m it_companies \u001b[38;5;241m=\u001b[39m [\u001b[38;5;124m\"\u001b[39m\u001b[38;5;124mGoogle\u001b[39m\u001b[38;5;124m\"\u001b[39m, \u001b[38;5;124m\"\u001b[39m\u001b[38;5;124mFacebook\u001b[39m\u001b[38;5;124m\"\u001b[39m, \u001b[38;5;124m\"\u001b[39m\u001b[38;5;124mMicrosoft\u001b[39m\u001b[38;5;124m\"\u001b[39m, \u001b[38;5;124m\"\u001b[39m\u001b[38;5;124mApple\u001b[39m\u001b[38;5;124m\"\u001b[39m, \u001b[38;5;124m\"\u001b[39m\u001b[38;5;124mAmazon\u001b[39m\u001b[38;5;124m\"\u001b[39m]\n\u001b[0;32m      2\u001b[0m \u001b[38;5;28;01mdel\u001b[39;00m it_companies\n\u001b[1;32m----> 4\u001b[0m \u001b[38;5;28mprint\u001b[39m(\u001b[43mit_companies\u001b[49m)\n",
      "\u001b[1;31mNameError\u001b[0m: name 'it_companies' is not defined"
     ]
    }
   ],
   "source": [
    "it_companies = [\"Google\", \"Facebook\", \"Microsoft\", \"Apple\", \"Amazon\"]\n",
    "del it_companies\n",
    "\n",
    "print(it_companies)"
   ]
  },
  {
   "cell_type": "markdown",
   "metadata": {},
   "source": [
    "26.Join the following lists:"
   ]
  },
  {
   "cell_type": "code",
   "execution_count": 173,
   "metadata": {},
   "outputs": [
    {
     "name": "stdout",
     "output_type": "stream",
     "text": [
      "['HTML', 'CSS', 'JS', 'React', 'Redux', 'Node', 'Express', 'MongoDB']\n"
     ]
    }
   ],
   "source": [
    "front_end = ['HTML', 'CSS', 'JS', 'React', 'Redux']\n",
    "back_end = ['Node','Express', 'MongoDB']\n",
    "\n",
    "full_stack = front_end + back_end\n",
    "\n",
    "print(full_stack)"
   ]
  },
  {
   "cell_type": "markdown",
   "metadata": {},
   "source": [
    "27.After joining the lists in question 26. Copy the joined list and assign it to a variable full_stack, then insert Python and SQL after Redux."
   ]
  },
  {
   "cell_type": "code",
   "execution_count": 180,
   "metadata": {},
   "outputs": [
    {
     "name": "stdout",
     "output_type": "stream",
     "text": [
      "['HTML', 'CSS', 'JS', 'React', 'Redux', 'Python', 'SQL', 'Node', 'Express', 'MongoDB']\n"
     ]
    }
   ],
   "source": [
    "front_end = ['HTML', 'CSS', 'JS', 'React', 'Redux']\n",
    "back_end = ['Node', 'Express', 'MongoDB']\n",
    "\n",
    "full_stack = front_end + back_end\n",
    "\n",
    "# Find the index of 'Redux' and insert 'Python' and 'SQL' after it\n",
    "redux_index = full_stack.index('Redux')\n",
    "full_stack.insert(redux_index + 1, 'Python')\n",
    "full_stack.insert(redux_index + 2, 'SQL')\n",
    "\n",
    "print(full_stack)\n"
   ]
  }
 ],
 "metadata": {
  "kernelspec": {
   "display_name": "ArewaDs-Training",
   "language": "python",
   "name": "python3"
  },
  "language_info": {
   "codemirror_mode": {
    "name": "ipython",
    "version": 3
   },
   "file_extension": ".py",
   "mimetype": "text/x-python",
   "name": "python",
   "nbconvert_exporter": "python",
   "pygments_lexer": "ipython3",
   "version": "3.12.7"
  }
 },
 "nbformat": 4,
 "nbformat_minor": 2
}
