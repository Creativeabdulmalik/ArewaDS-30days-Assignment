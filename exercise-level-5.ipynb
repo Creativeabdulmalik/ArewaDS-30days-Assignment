{
 "cells": [
  {
   "cell_type": "markdown",
   "metadata": {},
   "source": [
    "# EXERCISE MODULE_5  "
   ]
  },
  {
   "cell_type": "markdown",
   "metadata": {},
   "source": [
    "1. Declare an empty list\n"
   ]
  },
  {
   "cell_type": "code",
   "execution_count": null,
   "metadata": {},
   "outputs": [],
   "source": [
    "empty_list = [ ]\n",
    "\n",
    "print(empty_list)"
   ]
  },
  {
   "cell_type": "markdown",
   "metadata": {},
   "source": [
    "2.Declare a list with more than 5 items"
   ]
  },
  {
   "cell_type": "code",
   "execution_count": 47,
   "metadata": {},
   "outputs": [
    {
     "name": "stdout",
     "output_type": "stream",
     "text": [
      "('jeans', 't_shirts', 'sheos', 'caps', 'perfumes')\n"
     ]
    }
   ],
   "source": [
    "mall_list ='jeans', 't_shirts', 'sheos', 'caps', 'perfumes'\n",
    "\n",
    "print(mall_list)\n"
   ]
  },
  {
   "cell_type": "markdown",
   "metadata": {},
   "source": [
    "3 . Find the length of your list"
   ]
  },
  {
   "cell_type": "code",
   "execution_count": 54,
   "metadata": {},
   "outputs": [
    {
     "name": "stdout",
     "output_type": "stream",
     "text": [
      "number of mall_list: 5\n"
     ]
    }
   ],
   "source": [
    "mall_list ='jeans', 't_shirts', 'sheos', 'caps', 'perfumes'\n",
    "\n",
    "print('number of mall_list:', len(mall_list))"
   ]
  },
  {
   "cell_type": "markdown",
   "metadata": {},
   "source": [
    "4. Get the first item, the middle item and the last item of the list"
   ]
  },
  {
   "cell_type": "code",
   "execution_count": 67,
   "metadata": {},
   "outputs": [
    {
     "name": "stdout",
     "output_type": "stream",
     "text": [
      "jeans\n",
      "sheos\n",
      "perfumes\n"
     ]
    }
   ],
   "source": [
    "mall_list ='jeans', 't_shirts', 'sheos', 'caps', 'perfumes'\n",
    "\n",
    "first_mall_list = mall_list [0]\n",
    "print(first_mall_list)\n",
    "\n",
    "middle_mall_list = mall_list [2]\n",
    "print(middle_mall_list)\n",
    "\n",
    "last_mall_list = mall_list [4]\n",
    "print(last_mall_list)"
   ]
  },
  {
   "cell_type": "markdown",
   "metadata": {},
   "source": [
    "5. Declare a list called mixed_data_types, put your(name, age, height, marital status, address)"
   ]
  },
  {
   "cell_type": "code",
   "execution_count": 73,
   "metadata": {},
   "outputs": [],
   "source": [
    "mixed_data = ['Abdulmalik','26', '17', 'single', 'dutse_jigawa']\n"
   ]
  },
  {
   "cell_type": "markdown",
   "metadata": {},
   "source": [
    "   6.Declare a list variable named it_companies and assign initial values Facebook, Google, Microsoft, Apple, IBM, Oracle and Amazon."
   ]
  },
  {
   "cell_type": "code",
   "execution_count": 71,
   "metadata": {},
   "outputs": [],
   "source": [
    "it_companies = 'facebook','google','microsoft','apple','IBM','Oracle','Amazon'\n"
   ]
  },
  {
   "cell_type": "markdown",
   "metadata": {},
   "source": [
    "   7.Print the list using print()"
   ]
  },
  {
   "cell_type": "code",
   "execution_count": 72,
   "metadata": {},
   "outputs": [
    {
     "name": "stdout",
     "output_type": "stream",
     "text": [
      "('facebook', 'google', 'microsoft', 'apple', 'IBM', 'Oracle', 'Amazon')\n"
     ]
    }
   ],
   "source": [
    "print(it_companies)"
   ]
  },
  {
   "cell_type": "markdown",
   "metadata": {},
   "source": [
    "8.Print the number of companies in the list"
   ]
  },
  {
   "cell_type": "code",
   "execution_count": 75,
   "metadata": {},
   "outputs": [
    {
     "name": "stdout",
     "output_type": "stream",
     "text": [
      "number of companies: 7\n"
     ]
    }
   ],
   "source": [
    "print('number of companies:', len(it_companies))"
   ]
  },
  {
   "cell_type": "markdown",
   "metadata": {},
   "source": [
    "9.Print the first, middle and last company"
   ]
  },
  {
   "cell_type": "code",
   "execution_count": 79,
   "metadata": {},
   "outputs": [
    {
     "name": "stdout",
     "output_type": "stream",
     "text": [
      "facebook\n",
      "apple\n",
      "Amazon\n"
     ]
    }
   ],
   "source": [
    "first_it_companies = it_companies[0]\n",
    "print(first_it_companies)\n",
    "\n",
    "first_it_companies = it_companies[3]\n",
    "print(first_it_companies)\n",
    "\n",
    "first_it_companies = it_companies[6]\n",
    "print(first_it_companies)"
   ]
  },
  {
   "cell_type": "markdown",
   "metadata": {},
   "source": [
    "10.Print the list after modifying one of the companies\n",
    "\n"
   ]
  },
  {
   "cell_type": "code",
   "execution_count": 104,
   "metadata": {},
   "outputs": [
    {
     "name": "stdout",
     "output_type": "stream",
     "text": [
      "['3plus', 'google', 'microsoft', 'apple', 'IBM', 'Oracle', 'Amazon']\n"
     ]
    }
   ],
   "source": [
    "it_companies = ['facebook','google','microsoft','apple','IBM','Oracle','Amazon']\n",
    "it_companies[0] = '3plus'\n",
    "print(it_companies)\n"
   ]
  },
  {
   "cell_type": "markdown",
   "metadata": {},
   "source": [
    "11.Add an IT company to it_companies"
   ]
  },
  {
   "cell_type": "code",
   "execution_count": 110,
   "metadata": {},
   "outputs": [
    {
     "name": "stdout",
     "output_type": "stream",
     "text": [
      "['facebook', 'google', 'microsoft', 'apple', 'IBM', 'Oracle', 'Amazon', 'telsa']\n"
     ]
    }
   ],
   "source": [
    "it_companies = ['facebook','google','microsoft','apple','IBM','Oracle','Amazon']\n",
    "\n",
    "it_companies.append('telsa')\n",
    "\n",
    "print(it_companies)"
   ]
  },
  {
   "cell_type": "markdown",
   "metadata": {},
   "source": [
    "12.Insert an IT company in the middle of the companies list"
   ]
  },
  {
   "cell_type": "code",
   "execution_count": 114,
   "metadata": {},
   "outputs": [
    {
     "name": "stdout",
     "output_type": "stream",
     "text": [
      "['facebook', 'google', 'microsoft', 'apple', 'tesla', 'IBM', 'Oracle', 'Amazon']\n"
     ]
    }
   ],
   "source": [
    "it_companies = ['facebook','google','microsoft','apple','IBM','Oracle','Amazon']\n",
    "\n",
    "it_companies.insert(4, 'tesla')\n",
    "\n",
    "print(it_companies)"
   ]
  },
  {
   "cell_type": "markdown",
   "metadata": {},
   "source": [
    "13.Change one of the it_companies names to uppercase (IBM excluded!)"
   ]
  },
  {
   "cell_type": "code",
   "execution_count": 120,
   "metadata": {},
   "outputs": [
    {
     "data": {
      "text/plain": [
       "'FACEBOOK'"
      ]
     },
     "execution_count": 120,
     "metadata": {},
     "output_type": "execute_result"
    }
   ],
   "source": [
    "it_companies = ['facebook','google','microsoft','apple','IBM','Oracle','Amazon']\n",
    "\n",
    "it_companies[0].upper()"
   ]
  },
  {
   "cell_type": "markdown",
   "metadata": {},
   "source": [
    "14.Join the it_companies with a string '#;'"
   ]
  },
  {
   "cell_type": "code",
   "execution_count": 123,
   "metadata": {},
   "outputs": [
    {
     "name": "stdout",
     "output_type": "stream",
     "text": [
      "Google#;Facebook#;Microsoft#;Apple#;Amazon\n"
     ]
    }
   ],
   "source": [
    "it_companies = [\"Google\", \"Facebook\", \"Microsoft\", \"Apple\", \"Amazon\"]\n",
    "joined_string = '#;'.join(it_companies)\n",
    "print(joined_string)\n"
   ]
  },
  {
   "cell_type": "markdown",
   "metadata": {},
   "source": [
    "15.Check if a certain company exists in the it_companies list."
   ]
  },
  {
   "cell_type": "code",
   "execution_count": 126,
   "metadata": {},
   "outputs": [
    {
     "name": "stdout",
     "output_type": "stream",
     "text": [
      "True\n"
     ]
    }
   ],
   "source": [
    "it_companies = [\"Google\", \"Facebook\", \"Microsoft\", \"Apple\", \"Amazon\"]\n",
    "\n",
    "does_exits = 'Microsoft' in it_companies\n",
    "\n",
    "print(does_exits)"
   ]
  },
  {
   "cell_type": "markdown",
   "metadata": {},
   "source": [
    "16.Sort the list using sort() method"
   ]
  },
  {
   "cell_type": "code",
   "execution_count": 129,
   "metadata": {},
   "outputs": [
    {
     "name": "stdout",
     "output_type": "stream",
     "text": [
      "['Amazon', 'Apple', 'Facebook', 'Google', 'Microsoft']\n"
     ]
    }
   ],
   "source": [
    "it_companies = [\"Google\", \"Facebook\", \"Microsoft\", \"Apple\", \"Amazon\"]\n",
    "\n",
    "it_companies.sort()\n",
    "\n",
    "print(it_companies)"
   ]
  },
  {
   "cell_type": "markdown",
   "metadata": {},
   "source": [
    "17.Reverse the list in descending order using reverse() method\n",
    "\n"
   ]
  },
  {
   "cell_type": "code",
   "execution_count": 132,
   "metadata": {},
   "outputs": [
    {
     "name": "stdout",
     "output_type": "stream",
     "text": [
      "['Microsoft', 'Google', 'Facebook', 'Apple', 'Amazon']\n"
     ]
    }
   ],
   "source": [
    "it_companies = [\"Google\", \"Facebook\", \"Microsoft\", \"Apple\", \"Amazon\"]\n",
    "\n",
    "it_companies.sort(reverse='true')\n",
    "\n",
    "print(it_companies)"
   ]
  },
  {
   "cell_type": "markdown",
   "metadata": {},
   "source": [
    "18.Slice out the first 3 companies from the list"
   ]
  },
  {
   "cell_type": "code",
   "execution_count": 133,
   "metadata": {},
   "outputs": [
    {
     "name": "stdout",
     "output_type": "stream",
     "text": [
      "['Google', 'Facebook', 'Microsoft']\n"
     ]
    }
   ],
   "source": [
    "it_companies = [\"Google\", \"Facebook\", \"Microsoft\", \"Apple\", \"Amazon\"]\n",
    "\n",
    "first_three_companies = it_companies[:3]\n",
    "print(first_three_companies)\n"
   ]
  },
  {
   "cell_type": "markdown",
   "metadata": {},
   "source": [
    "19.Slice out the last 3 companies from the list\n",
    "\n"
   ]
  },
  {
   "cell_type": "code",
   "execution_count": 135,
   "metadata": {},
   "outputs": [
    {
     "name": "stdout",
     "output_type": "stream",
     "text": [
      "['Microsoft', 'Apple', 'Amazon']\n"
     ]
    }
   ],
   "source": [
    "it_companies = [\"Google\", \"Facebook\", \"Microsoft\", \"Apple\", \"Amazon\"]\n",
    "first_three_companies = it_companies[-3:]\n",
    "print(first_three_companies)"
   ]
  },
  {
   "cell_type": "markdown",
   "metadata": {},
   "source": [
    "20.Slice out the middle IT company or companies from the list"
   ]
  },
  {
   "cell_type": "code",
   "execution_count": 140,
   "metadata": {},
   "outputs": [
    {
     "name": "stdout",
     "output_type": "stream",
     "text": [
      "Microsoft\n"
     ]
    }
   ],
   "source": [
    "it_companies = [\"Google\", \"Facebook\", \"Microsoft\", \"Apple\", \"Amazon\"]\n",
    "first_three_companies = it_companies[2]\n",
    "print(first_three_companies)"
   ]
  },
  {
   "cell_type": "markdown",
   "metadata": {},
   "source": [
    "21.Remove the first IT company from the list"
   ]
  },
  {
   "cell_type": "code",
   "execution_count": 160,
   "metadata": {},
   "outputs": [
    {
     "name": "stdout",
     "output_type": "stream",
     "text": [
      "['Facebook', 'Microsoft', 'Apple', 'Amazon']\n"
     ]
    }
   ],
   "source": [
    "it_companies = [\"Google\", \"Facebook\", \"Microsoft\", \"Apple\", \"Amazon\"]\n",
    "it_companies.remove('Google')\n",
    "print(it_companies)\n"
   ]
  },
  {
   "cell_type": "markdown",
   "metadata": {},
   "source": [
    "22.Remove the middle IT company or companies from the list\n",
    "\n"
   ]
  },
  {
   "cell_type": "code",
   "execution_count": 161,
   "metadata": {},
   "outputs": [
    {
     "name": "stdout",
     "output_type": "stream",
     "text": [
      "['Google', 'Facebook', 'Apple', 'Amazon']\n"
     ]
    }
   ],
   "source": [
    "it_companies = [\"Google\", \"Facebook\", \"Microsoft\", \"Apple\", \"Amazon\"]\n",
    "it_companies.remove('Microsoft')\n",
    "print(it_companies)"
   ]
  },
  {
   "cell_type": "markdown",
   "metadata": {},
   "source": [
    "23.Remove the last IT company from the list"
   ]
  },
  {
   "cell_type": "code",
   "execution_count": 162,
   "metadata": {},
   "outputs": [
    {
     "name": "stdout",
     "output_type": "stream",
     "text": [
      "['Google', 'Facebook', 'Microsoft', 'Apple']\n"
     ]
    }
   ],
   "source": [
    "it_companies = [\"Google\", \"Facebook\", \"Microsoft\", \"Apple\", \"Amazon\"]\n",
    "\n",
    "it_companies.remove('Amazon')\n",
    "print(it_companies)"
   ]
  },
  {
   "cell_type": "markdown",
   "metadata": {},
   "source": [
    "24.Remove all IT companies from the list"
   ]
  },
  {
   "cell_type": "code",
   "execution_count": 169,
   "metadata": {},
   "outputs": [],
   "source": [
    "it_companies = [\"Google\", \"Facebook\", \"Microsoft\", \"Apple\", \"Amazon\"]\n",
    "\n",
    "del it_companies\n"
   ]
  },
  {
   "cell_type": "markdown",
   "metadata": {},
   "source": [
    "25.Destroy the IT companies list"
   ]
  },
  {
   "cell_type": "code",
   "execution_count": 170,
   "metadata": {},
   "outputs": [
    {
     "ename": "NameError",
     "evalue": "name 'it_companies' is not defined",
     "output_type": "error",
     "traceback": [
      "\u001b[1;31m---------------------------------------------------------------------------\u001b[0m",
      "\u001b[1;31mNameError\u001b[0m                                 Traceback (most recent call last)",
      "Cell \u001b[1;32mIn[170], line 4\u001b[0m\n\u001b[0;32m      1\u001b[0m it_companies \u001b[38;5;241m=\u001b[39m [\u001b[38;5;124m\"\u001b[39m\u001b[38;5;124mGoogle\u001b[39m\u001b[38;5;124m\"\u001b[39m, \u001b[38;5;124m\"\u001b[39m\u001b[38;5;124mFacebook\u001b[39m\u001b[38;5;124m\"\u001b[39m, \u001b[38;5;124m\"\u001b[39m\u001b[38;5;124mMicrosoft\u001b[39m\u001b[38;5;124m\"\u001b[39m, \u001b[38;5;124m\"\u001b[39m\u001b[38;5;124mApple\u001b[39m\u001b[38;5;124m\"\u001b[39m, \u001b[38;5;124m\"\u001b[39m\u001b[38;5;124mAmazon\u001b[39m\u001b[38;5;124m\"\u001b[39m]\n\u001b[0;32m      2\u001b[0m \u001b[38;5;28;01mdel\u001b[39;00m it_companies\n\u001b[1;32m----> 4\u001b[0m \u001b[38;5;28mprint\u001b[39m(\u001b[43mit_companies\u001b[49m)\n",
      "\u001b[1;31mNameError\u001b[0m: name 'it_companies' is not defined"
     ]
    }
   ],
   "source": [
    "it_companies = [\"Google\", \"Facebook\", \"Microsoft\", \"Apple\", \"Amazon\"]\n",
    "del it_companies\n",
    "\n",
    "print(it_companies)"
   ]
  },
  {
   "cell_type": "markdown",
   "metadata": {},
   "source": [
    "26.Join the following lists:"
   ]
  },
  {
   "cell_type": "code",
   "execution_count": 173,
   "metadata": {},
   "outputs": [
    {
     "name": "stdout",
     "output_type": "stream",
     "text": [
      "['HTML', 'CSS', 'JS', 'React', 'Redux', 'Node', 'Express', 'MongoDB']\n"
     ]
    }
   ],
   "source": [
    "front_end = ['HTML', 'CSS', 'JS', 'React', 'Redux']\n",
    "back_end = ['Node','Express', 'MongoDB']\n",
    "\n",
    "full_stack = front_end + back_end\n",
    "\n",
    "print(full_stack)"
   ]
  },
  {
   "cell_type": "markdown",
   "metadata": {},
   "source": [
    "27.After joining the lists in question 26. Copy the joined list and assign it to a variable full_stack, then insert Python and SQL after Redux."
   ]
  },
  {
   "cell_type": "code",
   "execution_count": 180,
   "metadata": {},
   "outputs": [
    {
     "name": "stdout",
     "output_type": "stream",
     "text": [
      "['HTML', 'CSS', 'JS', 'React', 'Redux', 'Python', 'SQL', 'Node', 'Express', 'MongoDB']\n"
     ]
    }
   ],
   "source": [
    "front_end = ['HTML', 'CSS', 'JS', 'React', 'Redux']\n",
    "back_end = ['Node', 'Express', 'MongoDB']\n",
    "\n",
    "full_stack = front_end + back_end\n",
    "\n",
    "# Find the index of 'Redux' and insert 'Python' and 'SQL' after it\n",
    "redux_index = full_stack.index('Redux')\n",
    "full_stack.insert(redux_index + 1, 'Python')\n",
    "full_stack.insert(redux_index + 2, 'SQL')\n",
    "\n",
    "print(full_stack)\n"
   ]
  },
  {
   "cell_type": "markdown",
   "metadata": {},
   "source": [
    "# EXERCISE LEVEL_2"
   ]
  },
  {
   "cell_type": "markdown",
   "metadata": {},
   "source": [
    "1.The following is a list of 10 students ages:"
   ]
  },
  {
   "cell_type": "code",
   "execution_count": 54,
   "metadata": {},
   "outputs": [
    {
     "name": "stdout",
     "output_type": "stream",
     "text": [
      "[19, 19, 20, 22, 24, 24, 24, 25, 25, 26]\n",
      "19\n",
      "minimum_number: 19\n",
      "maximun_number: 26\n"
     ]
    }
   ],
   "source": [
    "ages = [19, 22, 19, 24, 20, 25, 26, 24, 25, 24]\n",
    "\n",
    "#sorting of list\n",
    "ages.sort()\n",
    "print(ages)\n",
    "#find min and max number\n",
    "min_age = ages[0]\n",
    "print(min_age)\n",
    "print(\"minimum_number:\",min_age)\n",
    "max_age = ages[-1]\n",
    "print(\"maximun_number:\",max_age)\n",
    "\n",
    "#add using append\n",
    "ages.append(min_age)\n",
    "ages.append(max_age)\n",
    "\n",
    "# median\n",
    "n = len(ages)\n",
    "median_age = (ages[n//2 - 1] + ages[n//2]) / 2 if n % 2 == 0 else ages[n//2]\n",
    "\n",
    "\n",
    "\n"
   ]
  },
  {
   "cell_type": "code",
   "execution_count": 55,
   "metadata": {},
   "outputs": [
    {
     "name": "stdout",
     "output_type": "stream",
     "text": [
      "Ages: [19, 19, 20, 22, 24, 24, 24, 25, 25, 26]\n",
      "Min age: 19\n",
      "Max age: 26\n",
      "Median age: 24.0\n",
      "Average age: 22.75\n",
      "Age range: 7\n",
      "Difference (min - average): 3.75\n",
      "Difference (max - average): 3.25\n",
      "Middle country(ies): ['Finland']\n",
      "First half of countries: ['China', 'Russia', 'USA', 'Finland']\n",
      "Second half of countries: ['Sweden', 'Norway', 'Denmark']\n",
      "First three countries: China Russia USA\n",
      "Scandic countries: ['Finland', 'Sweden', 'Norway', 'Denmark']\n"
     ]
    }
   ],
   "source": [
    "ages = [19, 22, 19, 24, 20, 25, 26, 24, 25, 24]\n",
    "ages.sort()\n",
    "print(\"Ages:\", ages)\n",
    "\n",
    "# Min and Max\n",
    "min_age = ages[0]\n",
    "max_age = ages[-1]\n",
    "print(\"Min age:\", min_age)\n",
    "print(\"Max age:\", max_age)\n",
    "\n",
    "# Add min and max to the list\n",
    "ages.append(min_age)\n",
    "ages.append(max_age)\n",
    "\n",
    "# Median\n",
    "n = len(ages)\n",
    "median_age = (ages[n//2 - 1] + ages[n//2]) / 2 if n % 2 == 0 else ages[n//2]\n",
    "\n",
    "print(\"Median age:\", median_age)\n",
    "\n",
    "# Average\n",
    "average_age = sum(ages) / len(ages)\n",
    "print(\"Average age:\", average_age)\n",
    "\n",
    "# Range\n",
    "age_range = max_age - min_age\n",
    "print(\"Age range:\", age_range)\n",
    "\n",
    "# Absolute Differences\n",
    "diff_min_avg = abs(min_age - average_age)\n",
    "diff_max_avg = abs(max_age - average_age)\n",
    "print(\"Difference (min - average):\", diff_min_avg)\n",
    "print(\"Difference (max - average):\", diff_max_avg)\n",
    "\n",
    "# Countries operations\n",
    "countries = ['China', 'Russia', 'USA', 'Finland', 'Sweden', 'Norway', 'Denmark']\n",
    "n = len(countries)\n",
    "print(\"Middle country(ies):\", middle_countries)\n",
    "\n",
    "# Middle country(ies)\n",
    "middle_countries = countries[n//2 - 1:n//2 + 1] if n % 2 == 0 else [countries[n//2]]\n",
    "print(\"First half of countries:\", first_half)\n",
    "\n",
    "# Divide into two halves\n",
    "first_half = countries[:n//2 + (n % 2)]\n",
    "second_half = countries[n//2 + (n % 2):]\n",
    "print(\"Second half of countries:\", second_half)\n",
    "\n",
    "# Unpack countries\n",
    "first, second, third, *scandic_countries = countries\n",
    "print(\"First three countries:\", first, second, third)\n",
    "print(\"Scandic countries:\", scandic_countries)\n"
   ]
  },
  {
   "cell_type": "markdown",
   "metadata": {},
   "source": [
    "# Tuple Exercises: Level 1"
   ]
  },
  {
   "cell_type": "markdown",
   "metadata": {},
   "source": [
    "1.Create an empty tuple"
   ]
  },
  {
   "cell_type": "code",
   "execution_count": 56,
   "metadata": {},
   "outputs": [],
   "source": [
    "declare_empty = ()\n"
   ]
  },
  {
   "cell_type": "markdown",
   "metadata": {},
   "source": [
    "2.\n",
    "Create a tuple containing names of your sisters and your brothers (imaginary siblings are fine)"
   ]
  },
  {
   "cell_type": "code",
   "execution_count": 57,
   "metadata": {},
   "outputs": [],
   "source": [
    "sisters = ['fatima','hafsat','bilkisu','habiba','ummunsalma']\n",
    "\n",
    "brothers =['ameer','abdulmalik','imam','abdallah']\n",
    "\n",
    "\n"
   ]
  },
  {
   "cell_type": "markdown",
   "metadata": {},
   "source": [
    "3.Join brothers and sisters tuples and assign it to siblings"
   ]
  },
  {
   "cell_type": "code",
   "execution_count": 61,
   "metadata": {},
   "outputs": [
    {
     "name": "stdout",
     "output_type": "stream",
     "text": [
      "my_family: ['fatima', 'hafsat', 'bilkisu', 'habiba', 'ummunsalma', 'ameer', 'abdulmalik', 'imam', 'abdallah']\n"
     ]
    }
   ],
   "source": [
    "sibilings = sisters + brothers\n",
    "\n",
    "print(\"my_family:\",sibilings)"
   ]
  },
  {
   "cell_type": "markdown",
   "metadata": {},
   "source": [
    "4.How many siblings do you have?"
   ]
  },
  {
   "cell_type": "code",
   "execution_count": 65,
   "metadata": {},
   "outputs": [
    {
     "data": {
      "text/plain": [
       "9"
      ]
     },
     "execution_count": 65,
     "metadata": {},
     "output_type": "execute_result"
    }
   ],
   "source": [
    "len(sibilings)"
   ]
  },
  {
   "cell_type": "markdown",
   "metadata": {},
   "source": [
    "5.Modify the siblings tuple and add the name of your father and mother and assign it to family_members"
   ]
  },
  {
   "cell_type": "code",
   "execution_count": 71,
   "metadata": {},
   "outputs": [
    {
     "name": "stdout",
     "output_type": "stream",
     "text": [
      "['bashir', 'aisha', 'bilkisu', 'habiba', 'ummunsalma', 'ameer', 'abdulmalik', 'imam', 'abdallah']\n"
     ]
    }
   ],
   "source": [
    "my_family = ['fatima', 'hafsat', 'bilkisu', 'habiba', 'ummunsalma', 'ameer', 'abdulmalik', 'imam', 'abdallah']\n",
    "\n",
    "family_list = list(my_family)\n",
    "my_family [0] = 'bashir'\n",
    "my_family[1] = 'aisha'\n",
    "print(my_family)"
   ]
  },
  {
   "cell_type": "markdown",
   "metadata": {},
   "source": [
    "# Tuple Exercises: Level 2"
   ]
  },
  {
   "cell_type": "markdown",
   "metadata": {},
   "source": [
    "1.Unpack siblings and parents from family_members"
   ]
  },
  {
   "cell_type": "code",
   "execution_count": null,
   "metadata": {},
   "outputs": [
    {
     "name": "stdout",
     "output_type": "stream",
     "text": [
      "Family Members: ('rabiatu', 'Fatima', 'Zainab', 'Abdullah', 'abdulmalik', 'ameer', 'bashir', 'aisha')\n",
      "Siblings: ['rabiatu', 'Fatima', 'Zainab', 'Abdullah', 'abdulmalik', 'ameer']\n",
      "Father: bashir\n",
      "Mother: aisha\n"
     ]
    }
   ],
   "source": [
    "\n",
    "\n",
    "# To Create tuples for siblings and parents\n",
    "sisters = (\"rabiatu\", \"Fatima\", \"Zainab\")\n",
    "brothers = (\"Abdullah\", \"abdulmalik\", \"ameer\")\n",
    "parents = (\"bashir\", \"aisha\")\n",
    "\n",
    "# Combine all into family_members\n",
    "family_members = sisters + brothers + parents\n",
    "\n",
    "# Unpack siblings and parents\n",
    "*siblings, father, mother = family_members\n",
    "\n",
    "print(\"Family Members:\", family_members)\n",
    "print(\"Siblings:\", siblings)\n",
    "print(\"Father:\", father)\n",
    "print(\"Mother:\", mother)"
   ]
  },
  {
   "cell_type": "markdown",
   "metadata": {},
   "source": [
    "2.Create fruits, vegetables and animal products tuples. Join the three tuples and assign it to a variable called food_stuff_tp."
   ]
  },
  {
   "cell_type": "code",
   "execution_count": null,
   "metadata": {},
   "outputs": [
    {
     "name": "stdout",
     "output_type": "stream",
     "text": [
      "my_foos_stuff_tp: ('mango', 'lemon', 'apple', 'peach', 'tomato', 'carrot', 'beans', 'pumkim', 'milk', 'meat', 'butter', 'eggs')\n"
     ]
    }
   ],
   "source": [
    "# lists\n",
    "fruits = ('mango','lemon','apple',\"peach\")\n",
    "vegetables = ('tomato','carrot','beans','pumkim')\n",
    "animal_product = ('milk','meat','butter','eggs')\n",
    "#combine\n",
    "food_stuff = fruits + vegetables + animal_product\n",
    "\n",
    "print(\"my_foos_stuff_tp:\",food_stuff)\n"
   ]
  },
  {
   "cell_type": "markdown",
   "metadata": {},
   "source": [
    "3.Change the about food_stuff_tp tuple to a food_stuff_lt list"
   ]
  },
  {
   "cell_type": "code",
   "execution_count": 110,
   "metadata": {},
   "outputs": [
    {
     "name": "stdout",
     "output_type": "stream",
     "text": [
      "myfood_stuff_tuples: ('mango', 'lemon', 'apple', 'peach', 'tomato', 'carrot', 'beans', 'pumkim', 'milk', 'meat', 'butter', 'eggs')\n",
      "myfood_stuff_list: ['mango', 'lemon', 'apple', 'peach', 'tomato', 'carrot', 'beans', 'pumkim', 'milk', 'meat', 'butter', 'eggs']\n"
     ]
    }
   ],
   "source": [
    "my_food_stuff_tp =  ('mango', 'lemon', 'apple', 'peach', 'tomato', 'carrot', 'beans', 'pumkim', 'milk', 'meat', 'butter', 'eggs')\n",
    "\n",
    "# Convert the tuple to a list\n",
    "food_stuff_lt = list(my_food_stuff_tp)\n",
    "\n",
    "print(\"myfood_stuff_tuples:\",my_food_stuff_tp )\n",
    "print(\"myfood_stuff_list:\",food_stuff_lt )"
   ]
  },
  {
   "cell_type": "markdown",
   "metadata": {},
   "source": [
    "4.Slice out the middle item or items from the food_stuff_tp tuple or food_stuff_lt list."
   ]
  },
  {
   "cell_type": "code",
   "execution_count": 124,
   "metadata": {},
   "outputs": [
    {
     "name": "stdout",
     "output_type": "stream",
     "text": [
      "Food Stuff Tuple: ('mango', 'lemon', 'apple', 'peach', 'tomato', 'carrot', 'beans', 'pumkim', 'milk', 'meat', 'butter', 'eggs')\n",
      "Food Stuff List: ['mango', 'lemon', 'apple', 'peach', 'tomato', 'carrot', 'beans', 'pumkim', 'milk', 'meat', 'butter', 'eggs']\n",
      "Middle Item(s): ['carrot', 'beans']\n"
     ]
    }
   ],
   "source": [
    "food_stuff_tp = ('mango', 'lemon', 'apple', 'peach', 'tomato', 'carrot', 'beans', 'pumkim', 'milk', 'meat', 'butter', 'eggs')\n",
    "\n",
    "food_stuff_lt = list(food_stuff_tp)\n",
    "\n",
    "n = len(food_stuff_lt)\n",
    "if n % 2 == 0:\n",
    "    middle_items = food_stuff_lt[n//2 - 1:n//2 + 1]\n",
    "else:  \n",
    "    middle_items = [food_stuff_lt[n//2]]\n",
    "\n",
    "\n",
    "print(\"Food Stuff Tuple:\", food_stuff_tp)\n",
    "print(\"Food Stuff List:\", food_stuff_lt)\n",
    "print(\"Middle Item(s):\", middle_items)\n"
   ]
  },
  {
   "cell_type": "markdown",
   "metadata": {},
   "source": [
    "4.Slice out the first three items and the last three items from food_staff_lt list"
   ]
  },
  {
   "cell_type": "code",
   "execution_count": 153,
   "metadata": {},
   "outputs": [
    {
     "name": "stdout",
     "output_type": "stream",
     "text": [
      "Food Stuff List: ['mango', 'lemon', 'apple', 'peach', 'tomato', 'carrot', 'beans', 'pumkim', 'milk', 'meat', 'butter', 'eggs']\n",
      "First Three Items: ['mango', 'lemon', 'apple']\n",
      "Last Three Items: ['meat', 'butter', 'eggs']\n"
     ]
    }
   ],
   "source": [
    "food_stuff_list = ['mango', 'lemon', 'apple', 'peach', 'tomato', 'carrot', 'beans', 'pumkim', 'milk', 'meat', 'butter', 'eggs']\n",
    "\n",
    "\n",
    "#first three\n",
    "\n",
    "first_three = food_stuff_list[:3]\n",
    "\n",
    "#slice_out last three\n",
    "\n",
    "last_three = food_stuff_list[-3:]\n",
    "\n",
    "print(\"Food Stuff List:\", food_stuff_list)\n",
    "print(\"First Three Items:\", first_three)\n",
    "print(\"Last Three Items:\", last_three)\n",
    "\n"
   ]
  },
  {
   "cell_type": "markdown",
   "metadata": {},
   "source": [
    "6.Delete the food_staff_tp tuple completely"
   ]
  },
  {
   "cell_type": "code",
   "execution_count": 159,
   "metadata": {},
   "outputs": [],
   "source": [
    "food_stuff_list = ['mango', 'lemon', 'apple', 'peach', 'tomato', 'carrot', 'beans', 'pumkim', 'milk', 'meat', 'butter', 'eggs']\n",
    "\n",
    "del food_stuff_list"
   ]
  },
  {
   "cell_type": "markdown",
   "metadata": {},
   "source": [
    "7.Check if an item exists in tuple"
   ]
  },
  {
   "cell_type": "code",
   "execution_count": null,
   "metadata": {},
   "outputs": [
    {
     "data": {
      "text/plain": [
       "True"
      ]
     },
     "execution_count": 160,
     "metadata": {},
     "output_type": "execute_result"
    }
   ],
   "source": [
    "food_stuff_list = ['mango', 'lemon', 'apple', 'peach', 'tomato', 'carrot', 'beans', 'pumkim', 'milk', 'meat', 'butter', 'eggs']\n",
    "\n",
    "'tomato' in food_stuff_list\n"
   ]
  },
  {
   "cell_type": "markdown",
   "metadata": {},
   "source": [
    "8.Check if 'Estonia' is a nordic country\n"
   ]
  },
  {
   "cell_type": "code",
   "execution_count": 161,
   "metadata": {},
   "outputs": [
    {
     "data": {
      "text/plain": [
       "False"
      ]
     },
     "execution_count": 161,
     "metadata": {},
     "output_type": "execute_result"
    }
   ],
   "source": [
    "nordic_countries = ('Denmark', 'Finland','Iceland', 'Norway', 'Sweden')\n",
    "\n",
    "'estonia' in nordic_countries"
   ]
  },
  {
   "cell_type": "markdown",
   "metadata": {},
   "source": [
    "\n",
    "9.Check if 'Iceland' is a nordic country"
   ]
  },
  {
   "cell_type": "code",
   "execution_count": 163,
   "metadata": {},
   "outputs": [
    {
     "data": {
      "text/plain": [
       "True"
      ]
     },
     "execution_count": 163,
     "metadata": {},
     "output_type": "execute_result"
    }
   ],
   "source": [
    "nordic_countries = ('Denmark', 'Finland','Iceland', 'Norway', 'Sweden')\n",
    "\n",
    "'Iceland' in nordic_countries"
   ]
  },
  {
   "cell_type": "markdown",
   "metadata": {},
   "source": [
    "# SET EXERCISES"
   ]
  },
  {
   "cell_type": "markdown",
   "metadata": {},
   "source": [
    "1.Find the length of the set it_companies"
   ]
  },
  {
   "cell_type": "code",
   "execution_count": 167,
   "metadata": {},
   "outputs": [
    {
     "name": "stdout",
     "output_type": "stream",
     "text": [
      "7\n"
     ]
    }
   ],
   "source": [
    "it_companies = {'Facebook', 'Google', 'Microsoft', 'Apple', 'IBM', 'Oracle', 'Amazon'}\n",
    "\n",
    "it_length = len(it_companies)\n",
    "\n",
    "print(it_length)\n"
   ]
  },
  {
   "cell_type": "markdown",
   "metadata": {},
   "source": [
    "2.Add 'Twitter' to it_companies"
   ]
  },
  {
   "cell_type": "code",
   "execution_count": 169,
   "metadata": {},
   "outputs": [
    {
     "name": "stdout",
     "output_type": "stream",
     "text": [
      "{'Facebook', 'Apple', 'Google', 'IBM', 'Microsoft', 'Oracle', 'twitter', 'Amazon'}\n"
     ]
    }
   ],
   "source": [
    "it_companies.add('twitter')\n",
    "print(it_companies)"
   ]
  },
  {
   "cell_type": "markdown",
   "metadata": {},
   "source": [
    "3.Insert multiple IT companies at once to the set it_companies"
   ]
  },
  {
   "cell_type": "code",
   "execution_count": 195,
   "metadata": {},
   "outputs": [
    {
     "name": "stdout",
     "output_type": "stream",
     "text": [
      "{'Facebook', '3plus', 'Google', 'mega', 'IBM', 'Microsoft', 'Amazon', 'printing_media', 'Apple', 'Oracle', 'noroo'}\n"
     ]
    }
   ],
   "source": [
    "multiple_it = ('mega','noroo')\n",
    "it_companies.update(multiple_it)\n",
    "print(it_companies)"
   ]
  },
  {
   "cell_type": "markdown",
   "metadata": {},
   "source": [
    "4.Remove one of the companies from the set it_companies"
   ]
  },
  {
   "cell_type": "code",
   "execution_count": 197,
   "metadata": {},
   "outputs": [
    {
     "name": "stdout",
     "output_type": "stream",
     "text": [
      "{'Facebook', '3plus', 'Google', 'IBM', 'Microsoft', 'Amazon', 'printing_media', 'Apple', 'Oracle', 'noroo'}\n"
     ]
    }
   ],
   "source": [
    "it_companies.remove('mega')\n",
    "print(it_companies)"
   ]
  },
  {
   "cell_type": "markdown",
   "metadata": {},
   "source": [
    "5.What is the difference between remove and discard"
   ]
  },
  {
   "cell_type": "markdown",
   "metadata": {},
   "source": [
    "The remove () method will raise an error if the specified item does not exist, while dicard method will not"
   ]
  },
  {
   "cell_type": "markdown",
   "metadata": {},
   "source": [
    "# SET EXERCISES_LEVEL 2"
   ]
  },
  {
   "cell_type": "code",
   "execution_count": null,
   "metadata": {},
   "outputs": [],
   "source": [
    "A = {19, 22, 24, 20, 25, 26}\n",
    "B = {19, 22, 20, 25, 26, 24, 28, 27}"
   ]
  },
  {
   "cell_type": "markdown",
   "metadata": {},
   "source": [
    "1.Join A and B\n"
   ]
  },
  {
   "cell_type": "code",
   "execution_count": 4,
   "metadata": {},
   "outputs": [
    {
     "name": "stdout",
     "output_type": "stream",
     "text": [
      "{19, 20, 22, 24, 25, 26, 27, 28}\n"
     ]
    }
   ],
   "source": [
    "a = {19, 22, 24, 20, 25, 26}\n",
    "b = {19, 22, 20, 25, 26, 24, 28, 27}\n",
    "st = a.union(b)\n",
    "print(a.union(b))"
   ]
  },
  {
   "cell_type": "markdown",
   "metadata": {},
   "source": [
    "2.Find A intersection B"
   ]
  },
  {
   "cell_type": "code",
   "execution_count": 5,
   "metadata": {},
   "outputs": [
    {
     "name": "stdout",
     "output_type": "stream",
     "text": [
      "{19, 20, 22, 24, 25, 26}\n"
     ]
    }
   ],
   "source": [
    "a = {19, 22, 24, 20, 25, 26}\n",
    "b = {19, 22, 20, 25, 26, 24, 28, 27}\n",
    "\n",
    "intersection = a & b  \n",
    "print(intersection)\n"
   ]
  },
  {
   "cell_type": "markdown",
   "metadata": {},
   "source": [
    "3.Is A subset of B"
   ]
  },
  {
   "cell_type": "code",
   "execution_count": 6,
   "metadata": {},
   "outputs": [
    {
     "name": "stdout",
     "output_type": "stream",
     "text": [
      "True\n"
     ]
    }
   ],
   "source": [
    "a = {19, 22, 24, 20, 25, 26}\n",
    "b = {19, 22, 20, 25, 26, 24, 28, 27}\n",
    "\n",
    "is_subset = a.issubset(b)\n",
    "print(is_subset)\n"
   ]
  },
  {
   "cell_type": "markdown",
   "metadata": {},
   "source": [
    "4.Are A and B disjoint sets"
   ]
  },
  {
   "cell_type": "code",
   "execution_count": 7,
   "metadata": {},
   "outputs": [
    {
     "name": "stdout",
     "output_type": "stream",
     "text": [
      "False\n"
     ]
    }
   ],
   "source": [
    "a = {19, 22, 24, 20, 25, 26}\n",
    "b = {19, 22, 20, 25, 26, 24, 28, 27}\n",
    "\n",
    "are_disjoint = a.isdisjoint(b)\n",
    "print(are_disjoint)"
   ]
  },
  {
   "cell_type": "markdown",
   "metadata": {},
   "source": [
    "5.Join A with B and B with A"
   ]
  },
  {
   "cell_type": "code",
   "execution_count": 8,
   "metadata": {},
   "outputs": [
    {
     "name": "stdout",
     "output_type": "stream",
     "text": [
      "A union B: {19, 20, 22, 24, 25, 26, 27, 28}\n",
      "B union A: {19, 20, 22, 24, 25, 26, 27, 28}\n"
     ]
    }
   ],
   "source": [
    "a = {19, 22, 24, 20, 25, 26}\n",
    "b = {19, 22, 20, 25, 26, 24, 28, 27}\n",
    "\n",
    "union_ab = a | b  \n",
    "union_ba = b | a  \n",
    "\n",
    "print(\"A union B:\", union_ab)\n",
    "print(\"B union A:\", union_ba)\n"
   ]
  },
  {
   "cell_type": "markdown",
   "metadata": {},
   "source": [
    "6.What is the symmetric difference between A and B"
   ]
  },
  {
   "cell_type": "code",
   "execution_count": 10,
   "metadata": {},
   "outputs": [
    {
     "data": {
      "text/plain": [
       "{27, 28}"
      ]
     },
     "execution_count": 10,
     "metadata": {},
     "output_type": "execute_result"
    }
   ],
   "source": [
    "a = {19, 22, 24, 20, 25, 26}\n",
    "b = {19, 22, 20, 25, 26, 24, 28, 27}\n",
    "a.symmetric_difference(b)"
   ]
  },
  {
   "cell_type": "markdown",
   "metadata": {},
   "source": [
    "7.Delete the sets completely"
   ]
  },
  {
   "cell_type": "code",
   "execution_count": 12,
   "metadata": {},
   "outputs": [],
   "source": [
    "a = {19, 22, 24, 20, 25, 26}\n",
    "b = {19, 22, 20, 25, 26, 24, 28, 27}\n",
    "\n",
    "del a,b"
   ]
  },
  {
   "cell_type": "markdown",
   "metadata": {},
   "source": [
    "# Sets Exercises: Level 3"
   ]
  },
  {
   "cell_type": "markdown",
   "metadata": {},
   "source": [
    "1.Convert the ages to a set and compare the length of the list and the set, which one is bigger?"
   ]
  },
  {
   "cell_type": "code",
   "execution_count": 21,
   "metadata": {},
   "outputs": [
    {
     "name": "stdout",
     "output_type": "stream",
     "text": [
      "Length of the list: 9\n",
      "Length of the set: 6\n",
      "The list is bigger.\n"
     ]
    }
   ],
   "source": [
    "ages = [19, 22, 24, 20, 25, 26, 19, 22, 24]\n",
    "\n",
    "# Convert the list to a set\n",
    "ages_set = set(ages)\n",
    "\n",
    "# Compare lengths\n",
    "list_length = len(ages)\n",
    "set_length = len(ages_set)\n",
    "\n",
    "print(\"Length of the list:\", list_length)\n",
    "print(\"Length of the set:\", set_length)\n",
    "\n",
    "# Determine which is bigger\n",
    "\n",
    "print(\"The list is bigger.\")"
   ]
  },
  {
   "cell_type": "markdown",
   "metadata": {},
   "source": [
    "2.Explain the difference between the following data types: string, list, tuple and set"
   ]
  },
  {
   "cell_type": "markdown",
   "metadata": {},
   "source": [
    "strings: A sequence of characters, used to represent text.\n",
    "\n",
    "List: An ordered collection of elements (can be of any data type).\n",
    "\n",
    "Tuples: An ordered collection of elements, similar to a list, but immutable.\n",
    "Set: An unordered collection of unique elements."
   ]
  },
  {
   "cell_type": "markdown",
   "metadata": {},
   "source": [
    "3.I am a teacher and I love to inspire and teach people. How many unique words have been used in the sentence? Use the split methods and set to get the unique words."
   ]
  },
  {
   "cell_type": "code",
   "execution_count": 22,
   "metadata": {},
   "outputs": [
    {
     "name": "stdout",
     "output_type": "stream",
     "text": [
      "Unique words: {'love', 'and', 'I', 'people.', 'am', 'to', 'inspire', 'a', 'teach', 'teacher'}\n",
      "Number of unique words: 10\n"
     ]
    }
   ],
   "source": [
    "sentence = \"I am a teacher and I love to inspire and teach people.\"\n",
    "\n",
    "# Split the sentence into words\n",
    "words = sentence.split()\n",
    "\n",
    "# Convert the list of words to a set to remove duplicates\n",
    "unique_words = set(words)\n",
    "\n",
    "# Find the number of unique words\n",
    "unique_word_count = len(unique_words)\n",
    "\n",
    "print(\"Unique words:\", unique_words)\n",
    "print(\"Number of unique words:\", unique_word_count)\n"
   ]
  }
 ],
 "metadata": {
  "kernelspec": {
   "display_name": "ArewaDs-Training",
   "language": "python",
   "name": "python3"
  },
  "language_info": {
   "codemirror_mode": {
    "name": "ipython",
    "version": 3
   },
   "file_extension": ".py",
   "mimetype": "text/x-python",
   "name": "python",
   "nbconvert_exporter": "python",
   "pygments_lexer": "ipython3",
   "version": "3.12.8"
  }
 },
 "nbformat": 4,
 "nbformat_minor": 2
}
