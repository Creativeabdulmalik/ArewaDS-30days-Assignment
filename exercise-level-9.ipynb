{
 "cells": [
  {
   "cell_type": "markdown",
   "metadata": {},
   "source": [
    "# EXERCISE MODULE_9"
   ]
  },
  {
   "cell_type": "markdown",
   "metadata": {},
   "source": [
    "## Exercises: Level 1\n"
   ]
  },
  {
   "cell_type": "markdown",
   "metadata": {},
   "source": [
    "1.Declare a function add_two_numbers. It takes two parameters and it returns a sum."
   ]
  },
  {
   "cell_type": "code",
   "execution_count": 1,
   "metadata": {},
   "outputs": [],
   "source": [
    "def add_two_numbers ():\n",
    "    num_one = 2\n",
    "    num_two = 5\n",
    "    \n",
    "    total = num_one + num_two\n",
    "    print(total)\n",
    "\n"
   ]
  },
  {
   "cell_type": "markdown",
   "metadata": {},
   "source": [
    "2.Area of a circle is calculated as follows: area = π x r x r. Write a function that calculates area_of_circle"
   ]
  },
  {
   "cell_type": "code",
   "execution_count": 24,
   "metadata": {},
   "outputs": [],
   "source": [
    "def area_of_circle (r):\n",
    "    PI = 3.14\n",
    "    area = PI * r ** 2\n",
    "    return area\n",
    "    print(area_of_circle())\n",
    " "
   ]
  },
  {
   "cell_type": "markdown",
   "metadata": {},
   "source": [
    "3.Write a function called add_all_nums which takes arbitrary number of arguments and sums all the arguments. Check if all the list items are number types. If not do give a reasonable feedback."
   ]
  },
  {
   "cell_type": "code",
   "execution_count": 27,
   "metadata": {},
   "outputs": [
    {
     "name": "stdout",
     "output_type": "stream",
     "text": [
      "6\n",
      "Error: All arguments must be numbers.\n",
      "100.5\n"
     ]
    }
   ],
   "source": [
    "def add_all_nums(*args):\n",
    "    \"\"\"\n",
    "    Sums all arguments if they are numbers.\n",
    "    Provides feedback if any argument is not a number.\n",
    "    \"\"\"\n",
    "    # Check if all arguments are numbers\n",
    "    if all(isinstance(arg, (int, float)) for arg in args):\n",
    "        return sum(args)\n",
    "    else:\n",
    "        return \"Error: All arguments must be numbers.\"\n",
    "\n",
    "print(add_all_nums(1, 2, 3))           \n",
    "print(add_all_nums(1, \"two\", 3))       \n",
    "print(add_all_nums(10, 20, 30.5, 40))  \n",
    "\n",
    "\n"
   ]
  },
  {
   "cell_type": "markdown",
   "metadata": {},
   "source": [
    "4.  Temperature in °C can be converted to °F using this formula: °F = (°C x 9/5) + 32. Write a function which converts °C to °F, convert_celsius_to-fahrenheit."
   ]
  },
  {
   "cell_type": "code",
   "execution_count": 28,
   "metadata": {},
   "outputs": [
    {
     "name": "stdout",
     "output_type": "stream",
     "text": [
      "0°C is equivalent to 32.0°F.\n",
      "25°C is equivalent to 77.0°F.\n",
      "-40°C is equivalent to -40.0°F.\n",
      "Error: Please provide a valid number for Celsius.\n"
     ]
    }
   ],
   "source": [
    "def convert_celsius_to_fahrenheit(celsius):\n",
    "    \"\"\"\n",
    "    Converts temperature from Celsius to Fahrenheit.\n",
    "\n",
    "    Formula:\n",
    "        °F = (°C * 9/5) + 32\n",
    "    \"\"\"\n",
    "    try:\n",
    "        # Convert and return the Fahrenheit value\n",
    "        fahrenheit = (celsius * 9/5) + 32\n",
    "        return f\"{celsius}°C is equivalent to {fahrenheit}°F.\"\n",
    "    except TypeError:\n",
    "        return \"Error: Please provide a valid number for Celsius.\"\n",
    "\n",
    "print(convert_celsius_to_fahrenheit(0))       \n",
    "print(convert_celsius_to_fahrenheit(25))     \n",
    "print(convert_celsius_to_fahrenheit(-40))     \n",
    "print(convert_celsius_to_fahrenheit(\"abc\"))   \n"
   ]
  },
  {
   "cell_type": "markdown",
   "metadata": {},
   "source": [
    "5.Write a function called check-season, it takes a month parameter and returns the season: Autumn, Winter, Spring or Summer."
   ]
  },
  {
   "cell_type": "code",
   "execution_count": 44,
   "metadata": {},
   "outputs": [
    {
     "name": "stdout",
     "output_type": "stream",
     "text": [
      "Autumn\n",
      "Winter\n",
      "Spring\n",
      "Summer\n",
      "Invalid months_please provide accurate months\n"
     ]
    }
   ],
   "source": [
    "def check_seasons (month):\n",
    "    \"\"\"\n",
    "    Seasons:\n",
    "    - Autumn: September, October, November\n",
    "    - Winter: December, January, February\n",
    "    - Spring: March, April, May\n",
    "    - Summer: June, July, August\n",
    "    \"\"\"\n",
    "    month = month.lower()\n",
    "    if month in ['september', 'october', 'november']:\n",
    "        return \"Autumn\"\n",
    "    elif month in ['december', 'january', 'february']:\n",
    "        return \"Winter\"\n",
    "    elif month in ['march', 'april', 'may']:\n",
    "        return \"Spring\"\n",
    "    elif month in ['june','july','august']:\n",
    "        return \"Summer\"\n",
    "    else: \n",
    "        return \"Invalid months_please provide accurate months\"\n",
    "\n",
    "\n",
    "print(check_seasons('September'))\n",
    "print(check_seasons('january'))\n",
    "print(check_seasons('March'))\n",
    "print(check_seasons('august'))\n",
    "print(check_seasons('unknow'))\n",
    "\n",
    "\n",
    "\n",
    "\n"
   ]
  },
  {
   "cell_type": "markdown",
   "metadata": {},
   "source": [
    "6.Write a function called calculate_slope which return the slope of a linear equation"
   ]
  },
  {
   "cell_type": "code",
   "execution_count": 57,
   "metadata": {},
   "outputs": [
    {
     "name": "stdout",
     "output_type": "stream",
     "text": [
      "The slope of the line is 1.0.\n",
      "The line is vertical, so the slope is undefined.\n",
      "The slope of the line is 2.0.\n"
     ]
    }
   ],
   "source": [
    "def calculate_slope(x1, y1, x2, y2):\n",
    "    \"\"\"\n",
    "    Calculates the slope of a line passing through two points (x1, y1) and (x2, y2).\n",
    "    \n",
    "    Formula:\n",
    "        slope = (y2 - y1) / (x2 - x1)\n",
    "        \n",
    "    Args:\n",
    "    x1, y1, x2, y2: Coordinates of two points on the line.\n",
    "    \n",
    "    Returns:\n",
    "    The slope of the line or an error message if the line is vertical.\n",
    "    \"\"\"\n",
    "    try:\n",
    "        slope = (y2 - y1) / (x2 - x1)\n",
    "        return f\"The slope of the line is {slope}.\"\n",
    "    except ZeroDivisionError:\n",
    "        return \"The line is vertical, so the slope is undefined.\"\n",
    "\n",
    "# Example usage\n",
    "print(calculate_slope(1, 2, 3, 4))   \n",
    "print(calculate_slope(2, 3, 2, 6))    \n",
    "print(calculate_slope(-1, -2, 2, 4))  \n"
   ]
  },
  {
   "cell_type": "markdown",
   "metadata": {},
   "source": [
    "7.Quadratic equation is calculated as follows: ax² + bx + c = 0. Write a function which calculates solution set of a quadratic equation, solve_quadratic_eqn."
   ]
  },
  {
   "cell_type": "code",
   "execution_count": 74,
   "metadata": {},
   "outputs": [
    {
     "name": "stdout",
     "output_type": "stream",
     "text": [
      "The equation has two real roots: 2.0 and 1.0.\n",
      "The equation has one real root: -1.0.\n",
      "The equation has no real roots (complex roots).\n"
     ]
    }
   ],
   "source": [
    "import math\n",
    "\n",
    "def solve_quadratic_eqn(a, b, c):\n",
    "\n",
    "    if a == 0:\n",
    "        return \"This is not a quadratic equation (a cannot be zero).\"\n",
    "    \n",
    "    # Calculate the discriminant\n",
    "    discriminant = b**2 - 4*a*c\n",
    "    \n",
    "    if discriminant > 0:\n",
    "        root1 = (-b + math.sqrt(discriminant)) / (2 * a)\n",
    "        root2 = (-b - math.sqrt(discriminant)) / (2 * a)\n",
    "        return f\"The equation has two real roots: {root1} and {root2}.\"\n",
    "    elif discriminant == 0:\n",
    "        root = -b / (2 * a)\n",
    "        return f\"The equation has one real root: {root}.\"\n",
    "    else:\n",
    "        return \"The equation has no real roots (complex roots).\"\n",
    "\n",
    "print(solve_quadratic_eqn(1, -3, 2))   \n",
    "print(solve_quadratic_eqn(1, 2, 1))    \n",
    "print(solve_quadratic_eqn(1, 0, 1))    \n"
   ]
  },
  {
   "cell_type": "markdown",
   "metadata": {},
   "source": [
    "8.Declare a function named print_list. It takes a list as a parameter and it prints out each element of the list."
   ]
  },
  {
   "cell_type": "code",
   "execution_count": 73,
   "metadata": {},
   "outputs": [
    {
     "name": "stdout",
     "output_type": "stream",
     "text": [
      "banana\n",
      "orange\n",
      "mango\n",
      "lemon\n"
     ]
    }
   ],
   "source": [
    "def print_list (items):\n",
    "\n",
    "    for item in items:\n",
    "        print(item)\n",
    "\n",
    "fruits = ['banana', 'orange', 'mango', 'lemon']\n",
    "print_list(fruits)\n",
    "\n",
    "\n"
   ]
  },
  {
   "cell_type": "markdown",
   "metadata": {},
   "source": [
    "9."
   ]
  },
  {
   "cell_type": "code",
   "execution_count": 72,
   "metadata": {},
   "outputs": [
    {
     "name": "stdout",
     "output_type": "stream",
     "text": [
      "[5, 4, 3, 2, 1]\n",
      "['C', 'B', 'A']\n"
     ]
    }
   ],
   "source": [
    "def reverse_list(array):\n",
    "  \n",
    "    reversed_array = []\n",
    "    for i in range(len(array) - 1, -1, -1):\n",
    "        reversed_array.append(array[i])\n",
    "    return reversed_array\n",
    "\n",
    "print(reverse_list([1, 2, 3, 4, 5]))       \n",
    "print(reverse_list([\"A\", \"B\", \"C\"]))    \n"
   ]
  },
  {
   "cell_type": "markdown",
   "metadata": {},
   "source": [
    "10.Declare a function named capitalize_list_items. It takes a list as a parameter and it returns a capitalized list of items"
   ]
  },
  {
   "cell_type": "code",
   "execution_count": 71,
   "metadata": {},
   "outputs": [
    {
     "name": "stdout",
     "output_type": "stream",
     "text": [
      "['Banana', 'Orange', 'Mango', 'Lemon']\n"
     ]
    }
   ],
   "source": [
    "def capitalize_list_items(items):\n",
    "\n",
    "    capitalized_items = []\n",
    "    for item in items:\n",
    "        capitalized_items.append(item.capitalize())\n",
    "    return capitalized_items\n",
    "\n",
    "fruits = ['banana', 'orange', 'mango', 'lemon']\n",
    "print(capitalize_list_items(fruits)) \n"
   ]
  },
  {
   "cell_type": "markdown",
   "metadata": {},
   "source": [
    "12.Declare a function named remove_item. It takes a list and an item parameters. It returns a list with the item removed from it."
   ]
  },
  {
   "cell_type": "code",
   "execution_count": 24,
   "metadata": {},
   "outputs": [
    {
     "name": "stdout",
     "output_type": "stream",
     "text": [
      "['Potato', 'Tomato', 'Milk']\n",
      "[2, 7, 9]\n"
     ]
    }
   ],
   "source": [
    "def remove_item(lst, item):\n",
    "\n",
    "    if item in lst:\n",
    "        lst.remove(item)\n",
    "    return lst\n",
    "\n",
    "food_staff = ['Potato', 'Tomato', 'Mango', 'Milk']\n",
    "print(remove_item(food_staff, 'Mango'))  \n",
    "\n",
    "numbers = [2, 3, 7, 9]\n",
    "print(remove_item(numbers, 3)) \n"
   ]
  },
  {
   "cell_type": "markdown",
   "metadata": {},
   "source": [
    "13. Declare a function named sum_of_numbers. It takes a number parameter and it adds all the numbers in that range."
   ]
  },
  {
   "cell_type": "code",
   "execution_count": 32,
   "metadata": {},
   "outputs": [
    {
     "name": "stdout",
     "output_type": "stream",
     "text": [
      "15\n",
      "55\n",
      "5050\n"
     ]
    }
   ],
   "source": [
    "def sum_of_numbers(n):\n",
    "\n",
    "    total = 0\n",
    "    for i in range(1, n + 1):\n",
    "        total += i\n",
    "    return total\n",
    "\n",
    "print(sum_of_numbers(5))  \n",
    "print(sum_of_numbers(10))  \n",
    "print(sum_of_numbers(100))  "
   ]
  },
  {
   "cell_type": "markdown",
   "metadata": {},
   "source": [
    "14.Declare a function named sum_of_odds. It takes a number parameter and it adds all the odd numbers in that range.\n"
   ]
  },
  {
   "cell_type": "code",
   "execution_count": 37,
   "metadata": {},
   "outputs": [
    {
     "name": "stdout",
     "output_type": "stream",
     "text": [
      "9\n",
      "25\n",
      "2500\n"
     ]
    }
   ],
   "source": [
    "def sum_of_odds (n):\n",
    "\n",
    "    Total = 0\n",
    "    for i in range(1, n + 1):\n",
    "        if i % 2 != 0:\n",
    "            Total += i\n",
    "    return Total\n",
    "\n",
    "print(sum_of_odds(5))\n",
    "print(sum_of_odds(10))\n",
    "print(sum_of_odds(100))"
   ]
  },
  {
   "cell_type": "markdown",
   "metadata": {},
   "source": [
    "15.Declare a function named sum_of_even. It takes a number parameter and it adds all the even numbers in that - range."
   ]
  },
  {
   "cell_type": "code",
   "execution_count": 40,
   "metadata": {},
   "outputs": [
    {
     "name": "stdout",
     "output_type": "stream",
     "text": [
      "6\n",
      "30\n",
      "2550\n"
     ]
    }
   ],
   "source": [
    "def sum_of_even (n):\n",
    "\n",
    "    total = 0\n",
    "    for i in range(1, n + 1):\n",
    "        if i % 2 == 0:\n",
    "            total += i\n",
    "    return total \n",
    "\n",
    "print(sum_of_even(5))\n",
    "print(sum_of_even(10))    \n",
    "print(sum_of_even(100))          \n"
   ]
  },
  {
   "cell_type": "markdown",
   "metadata": {},
   "source": [
    "## Exercises: Level 2"
   ]
  },
  {
   "cell_type": "markdown",
   "metadata": {},
   "source": [
    "1.Declare a function named evens_and_odds . It takes a positive integer as parameter and it counts number of evens and odds in the number."
   ]
  },
  {
   "cell_type": "code",
   "execution_count": 44,
   "metadata": {},
   "outputs": [
    {
     "name": "stdout",
     "output_type": "stream",
     "text": [
      " for 100,  the number of odd are: 50 \n",
      "The number of even are: 51\n"
     ]
    }
   ],
   "source": [
    "def even_and_0dds (int):\n",
    "    num_even = 0\n",
    "    num_odd = 0\n",
    "    for i in range(int +1):\n",
    "        if i % 2 == 0:\n",
    "            num_even += 1\n",
    "        else:\n",
    "            num_odd += 1\n",
    "    return f' the number of odd are: {num_odd} \\nThe number of even are: {num_even}'\n",
    "print(f' for 100, {even_and_0dds(100)}')                   "
   ]
  },
  {
   "cell_type": "markdown",
   "metadata": {},
   "source": [
    "1.Call your function factorial, it takes a whole number as a parameter and it return a factorial of the number"
   ]
  },
  {
   "cell_type": "code",
   "execution_count": 45,
   "metadata": {},
   "outputs": [
    {
     "name": "stdout",
     "output_type": "stream",
     "text": [
      "The factorial of 6 is 720 \n"
     ]
    }
   ],
   "source": [
    "def factorial(x):\n",
    "  fact = 1\n",
    "  for i in range(1,x+1):\n",
    "    fact *= i\n",
    "  return fact\n",
    "\n",
    "print(f'The factorial of 6 is {factorial(6)} ')"
   ]
  },
  {
   "cell_type": "markdown",
   "metadata": {},
   "source": [
    "2.Call your function is_empty, it takes a parameter and it checks if it is empty or not"
   ]
  },
  {
   "cell_type": "code",
   "execution_count": 46,
   "metadata": {},
   "outputs": [
    {
     "name": "stdout",
     "output_type": "stream",
     "text": [
      "empty\n"
     ]
    }
   ],
   "source": [
    "def is_empty(x):\n",
    "    if len (x) == 0:\n",
    "        state = 'empty'\n",
    "    else:\n",
    "        state = 'not_empty'\n",
    "    return state\n",
    "print(is_empty([]))    \n",
    "\n"
   ]
  },
  {
   "cell_type": "markdown",
   "metadata": {},
   "source": [
    "3.Write different functions which take lists. They should calculate_mean, calculate_median, calculate_mode, calculate_range,"
   ]
  },
  {
   "cell_type": "code",
   "execution_count": 50,
   "metadata": {},
   "outputs": [
    {
     "name": "stdout",
     "output_type": "stream",
     "text": [
      "The mean of [1,2,3,4,5]: 3.0\n",
      "The median of [1,3,4,5,2]: 3\n",
      "The median of [1,4,3,2]: 2.5\n",
      "The mode of [1,1,1,3,4,5,6,6,6,8,8,1,1]: [1]\n",
      "The range of [10,90,5,3,6,7]: 87\n",
      "The variance of [1,2,4,5,6,7,8]: 6.571428571428572\n",
      "The sd of [1,2,4,5,6,7,8] : 2.563479777846623\n"
     ]
    }
   ],
   "source": [
    "def calculate_mean (list):\n",
    "    sum = 0\n",
    "    for i in range(len(list)):\n",
    "        sum += list[i]\n",
    "    mean = sum / len(list)\n",
    "    return mean\n",
    "print(f'The mean of [1,2,3,4,5]: {calculate_mean([1,2,3,4,5])}')\n",
    "\n",
    "\n",
    "def calculate_median(list):\n",
    "  list_length = len(list)\n",
    "  list.sort()\n",
    "  if list_length % 2 == 0:\n",
    "    median = (list[list_length//2] + list[list_length//2 - 1])/2\n",
    "  else:\n",
    "    median = list[list_length//2]\n",
    "  return median\n",
    "\n",
    "print(f'The median of [1,3,4,5,2]: {calculate_median([1,3,4,5,2])}')\n",
    "print(f'The median of [1,4,3,2]: {calculate_median([1,4,3,2])}')\n",
    "\n",
    "def calculate_mode(list):\n",
    "  dic = {}\n",
    "  for item in list:\n",
    "      dic[item] = dic.get(item,0) + 1\n",
    "  return [i for  i,j in dic.items() if j == max(dic.values()) ]\n",
    "    \n",
    "print(f'The mode of [1,1,1,3,4,5,6,6,6,8,8,1,1]: {calculate_mode([1,1,1,3,4,5,6,6,6,8,8,1,1])}')\n",
    "\n",
    "def calculate_range(list):\n",
    "  list.sort()\n",
    "  range = list[len(list)-1] - list[0]\n",
    "  return range\n",
    "print(f'The range of [10,90,5,3,6,7]: {calculate_range([10,90,5,3,6,7])}')\n",
    "\n",
    "def calculate_variance(list):\n",
    "  sum = 0\n",
    "  sum_of_diffs = 0\n",
    "  for i in range(len(list)):\n",
    "    sum += list[i]\n",
    "  mean = sum / len(list)\n",
    "  for i in range(len(list)):\n",
    "    sum_of_diffs +=  (list[i] - mean ) ** 2\n",
    "  variance = sum_of_diffs/(len(list) - 1)\n",
    "  return variance\n",
    "\n",
    "print(f'The variance of [1,2,4,5,6,7,8]: {calculate_variance([1,2,4,5,6,7,8])}')\n",
    "\n",
    "def calculate_std(list):\n",
    "  sum = 0\n",
    "  sum_of_diffs = 0\n",
    "  for i in range(len(list)):\n",
    "    sum += list[i]\n",
    "  mean = sum / len(list)\n",
    "  for i in range(len(list)):\n",
    "    sum_of_diffs +=  ((list[i] - mean ) ** 2)\n",
    "  sd = (sum_of_diffs/(len(list)-1)) ** (1/2)\n",
    "  return sd\n",
    "\n",
    "print(f'The sd of [1,2,4,5,6,7,8] : {calculate_std([1,2,4,5,6,7,8])}')\n",
    "\n"
   ]
  },
  {
   "cell_type": "markdown",
   "metadata": {},
   "source": [
    "## EXERCISE LEVEL_3"
   ]
  },
  {
   "cell_type": "markdown",
   "metadata": {},
   "source": [
    "1.Write a function called is_prime, which checks if a number is prime."
   ]
  },
  {
   "cell_type": "code",
   "execution_count": 76,
   "metadata": {},
   "outputs": [],
   "source": [
    "def is_prime (x):\n",
    "\n",
    "  div = []\n",
    "  for i in range(2,x):\n",
    "     if  x % i == 0:\n",
    "       div.append(i)\n",
    "  if len(div) == 0:\n",
    "    prime = 'Prime'\n",
    "  else:\n",
    "    prime = 'Not Prime'\n",
    "  return prime\n",
    "\n",
    "  print(f'24: {is_prime(24)}')"
   ]
  },
  {
   "cell_type": "markdown",
   "metadata": {},
   "source": [
    "2.Write a functions which checks if all items are unique in the list."
   ]
  },
  {
   "cell_type": "code",
   "execution_count": 80,
   "metadata": {},
   "outputs": [
    {
     "name": "stdout",
     "output_type": "stream",
     "text": [
      "Are items in [1,2,3,4,5] unique? : All items are unique\n"
     ]
    }
   ],
   "source": [
    "def check_unique(items):\n",
    "    return 'All items are unique' if len(items) == len(set(items)) else 'Some items are duplicated'\n",
    "\n",
    "# Testing the function with a list containing unique items.\n",
    "print(f'Are items in [1,2,3,4,5] unique? : {check_unique([1,2,3,4,5])}')"
   ]
  },
  {
   "cell_type": "markdown",
   "metadata": {},
   "source": [
    "3.Write a function which checks if all the items of the list are of the same data type"
   ]
  },
  {
   "cell_type": "code",
   "execution_count": 82,
   "metadata": {},
   "outputs": [
    {
     "name": "stdout",
     "output_type": "stream",
     "text": [
      "All items in the list are of the same data type\n"
     ]
    }
   ],
   "source": [
    "def same_data_type(list):\n",
    "  types = []\n",
    "  for i in range(len(list)):\n",
    "    types.append(type(list[i]))\n",
    "  types_set = set(types)\n",
    "  if len(types_set) == 1:\n",
    "    data = \"All items in the list are of the same data type\"\n",
    "  else:\n",
    "    data = \"Items in the list are not of the same data type\"\n",
    "  return data\n",
    "print(same_data_type(['friends','foes']))\n"
   ]
  },
  {
   "cell_type": "markdown",
   "metadata": {},
   "source": [
    "4.Write a function which check if provided variable is a valid python variable"
   ]
  },
  {
   "cell_type": "code",
   "execution_count": null,
   "metadata": {},
   "outputs": [],
   "source": []
  },
  {
   "cell_type": "markdown",
   "metadata": {},
   "source": [
    "## List Comprehensions Exercises"
   ]
  },
  {
   "cell_type": "markdown",
   "metadata": {},
   "source": [
    "1.Filter only negative and zero in the list using list comprehension"
   ]
  },
  {
   "cell_type": "code",
   "execution_count": 96,
   "metadata": {},
   "outputs": [
    {
     "name": "stdout",
     "output_type": "stream",
     "text": [
      "[-3, -1]\n"
     ]
    }
   ],
   "source": [
    "numbers = [-4, -3, -2, -1, 0, 2, 4, 6]\n",
    "\n",
    "negative_and_zero = [i for i in numbers if i % 2 != 0 and i < 0]\n",
    "print(negative_and_zero)"
   ]
  },
  {
   "cell_type": "markdown",
   "metadata": {},
   "source": [
    "2.Flatten the following list of lists of lists to a one dimensional list"
   ]
  },
  {
   "cell_type": "code",
   "execution_count": 106,
   "metadata": {},
   "outputs": [
    {
     "name": "stdout",
     "output_type": "stream",
     "text": [
      "[[1, 2, 3], [4, 5, 6], [7, 8, 9]]\n"
     ]
    }
   ],
   "source": [
    "list_of_lists = [[[1, 2, 3]], [[4, 5, 6]], [[7, 8, 9]]]\n",
    "\n",
    "flatten_list == [ number for row in list_of_lists for number  in row]\n",
    "\n",
    "print(flatten_list)\n"
   ]
  },
  {
   "cell_type": "markdown",
   "metadata": {},
   "source": [
    "3.Using list comprehension create the following list of tuples:"
   ]
  },
  {
   "cell_type": "code",
   "execution_count": null,
   "metadata": {},
   "outputs": [],
   "source": [
    "result = [\n",
    "    (i, 1, i, i**2, i**3, i**4, i**5) \n",
    "    for i in range(11)\n",
    "]\n",
    "\n",
    "for row in result:\n",
    "    print(row)\n"
   ]
  },
  {
   "cell_type": "markdown",
   "metadata": {},
   "source": [
    "4.Flatten the following list to a new list:"
   ]
  },
  {
   "cell_type": "code",
   "execution_count": 114,
   "metadata": {},
   "outputs": [
    {
     "name": "stdout",
     "output_type": "stream",
     "text": [
      "[('Finland', 'Helsinki'), ('Sweden', 'Stockholm'), ('Norway', 'Oslo')]\n"
     ]
    }
   ],
   "source": [
    "countries = [[('Finland', 'Helsinki')], [('Sweden', 'Stockholm')], [('Norway', 'Oslo')]]\n",
    "\n",
    "# Flatten the nested list\n",
    "flattened_list = [item for sublist in countries for item in sublist]\n",
    "\n",
    "print(flattened_list)\n"
   ]
  },
  {
   "cell_type": "markdown",
   "metadata": {},
   "source": [
    "5.Change the following list to a list of dictionaries:"
   ]
  },
  {
   "cell_type": "code",
   "execution_count": 116,
   "metadata": {},
   "outputs": [
    {
     "name": "stdout",
     "output_type": "stream",
     "text": [
      "[{'country': 'Finland', 'capital': 'Helsinki'}, {'country': 'Sweden', 'capital': 'Stockholm'}, {'country': 'Norway', 'capital': 'Oslo'}]\n"
     ]
    }
   ],
   "source": [
    "countries = [[('Finland', 'Helsinki')], [('Sweden', 'Stockholm')], [('Norway', 'Oslo')]]\n",
    "\n",
    "# Convert to a list of dictionaries\n",
    "countries_dict = [{'country': item[0], 'capital': item[1]} for sublist in countries for item in sublist]\n",
    "\n",
    "print(countries_dict)\n",
    "\n"
   ]
  },
  {
   "cell_type": "markdown",
   "metadata": {},
   "source": [
    "6.Convert to a list of concatenated strings"
   ]
  },
  {
   "cell_type": "code",
   "execution_count": 117,
   "metadata": {},
   "outputs": [
    {
     "name": "stdout",
     "output_type": "stream",
     "text": [
      "['Asabeneh Yetayeh', 'David Smith', 'Donald Trump', 'Bill Gates']\n"
     ]
    }
   ],
   "source": [
    "names = [[('Asabeneh', 'Yetayeh')], [('David', 'Smith')], [('Donald', 'Trump')], [('Bill', 'Gates')]]\n",
    "\n",
    "# Convert to a list of concatenated strings\n",
    "concatenated_names = [\" \".join(item) for sublist in names for item in sublist]\n",
    "\n",
    "print(concatenated_names)"
   ]
  },
  {
   "cell_type": "markdown",
   "metadata": {},
   "source": [
    "7.Write a lambda function which can solve a slope or y-intercept of linear functions."
   ]
  },
  {
   "cell_type": "code",
   "execution_count": 118,
   "metadata": {},
   "outputs": [
    {
     "name": "stdout",
     "output_type": "stream",
     "text": [
      "Slope: 2.6666666666666665\n",
      "Y-Intercept: -2.333333333333333\n"
     ]
    }
   ],
   "source": [
    "# Lambda to calculate slope\n",
    "slope = lambda x1, y1, x2, y2: (y2 - y1) / (x2 - x1) if x2 != x1 else None\n",
    "\n",
    "# Lambda to calculate y-intercept\n",
    "y_intercept = lambda x, y, m: y - (m * x)\n",
    "\n",
    "x1, y1 = 2, 3\n",
    "x2, y2 = 5, 11\n",
    "\n",
    "# Calculate slope\n",
    "m = slope(x1, y1, x2, y2)\n",
    "print(f\"Slope: {m}\")\n",
    "\n",
    "# Calculate y-intercept using one point and the slope\n",
    "if m is not None:\n",
    "    c = y_intercept(x1, y1, m)\n",
    "    print(f\"Y-Intercept: {c}\")\n"
   ]
  }
 ],
 "metadata": {
  "kernelspec": {
   "display_name": "ArewaDs-Training",
   "language": "python",
   "name": "python3"
  },
  "language_info": {
   "codemirror_mode": {
    "name": "ipython",
    "version": 3
   },
   "file_extension": ".py",
   "mimetype": "text/x-python",
   "name": "python",
   "nbconvert_exporter": "python",
   "pygments_lexer": "ipython3",
   "version": "3.12.8"
  }
 },
 "nbformat": 4,
 "nbformat_minor": 2
}
