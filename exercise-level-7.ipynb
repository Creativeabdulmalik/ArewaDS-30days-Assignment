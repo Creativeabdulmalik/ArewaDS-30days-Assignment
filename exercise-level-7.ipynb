{
 "cells": [
  {
   "cell_type": "markdown",
   "metadata": {},
   "source": [
    "# EXERCISE MODULE_7"
   ]
  },
  {
   "cell_type": "markdown",
   "metadata": {},
   "source": [
    "## Conditionals Exercises"
   ]
  },
  {
   "cell_type": "markdown",
   "metadata": {},
   "source": [
    "Exercises: Level 1"
   ]
  },
  {
   "cell_type": "markdown",
   "metadata": {},
   "source": [
    "1.Get user input using input(“Enter your age: ”). If user is 18 or older, give feedback: You are old enough to drive. If below 18 give feedback to wait for the missing amount of years. Output:\n",
    "\n",
    "Enter_your_age: 30\n",
    "You are old enough to learn to drive.\n",
    "Output: 18\n",
    "Enter your age: 15\n",
    "You need 3 more years to learn to drive.\n"
   ]
  },
  {
   "cell_type": "code",
   "execution_count": 8,
   "metadata": {},
   "outputs": [
    {
     "name": "stdout",
     "output_type": "stream",
     "text": [
      "You need 6 more years to learn to drive.\n"
     ]
    }
   ],
   "source": [
    "\n",
    "# Get user input\n",
    "age = int(input(\"Enter your age: \"))\n",
    "\n",
    "# Check the age and provide feedback\n",
    "if age >= 18:\n",
    "    print(\"You are old enough to learn to drive.\")\n",
    "else:\n",
    "    missing_years = 18 - age\n",
    "    print(f\"You need {missing_years} more years to learn to drive.\")\n"
   ]
  },
  {
   "cell_type": "markdown",
   "metadata": {},
   "source": [
    "2.Compare the values of my_age and your_age using if … else. Who is older (me or you)? Use input(“Enter your age: ”) to get the age as input. You can use a nested condition to print 'year' for 1 year difference in age, 'years' for bigger differences, and a custom text if my_age = your_age. Output:"
   ]
  },
  {
   "cell_type": "code",
   "execution_count": null,
   "metadata": {},
   "outputs": [
    {
     "name": "stdout",
     "output_type": "stream",
     "text": [
      "We are the same age.\n"
     ]
    }
   ],
   "source": [
    "my_age = int(input(\"Enter my age: \"))\n",
    "\n",
    "your_age = int(input(\"Enter your age: \"))\n",
    "\n",
    "if my_age > your_age:\n",
    "    age_difference = my_age - your_age\n",
    "    if age_difference == 1:\n",
    "        print(\"I am 1 year older than you.\")\n",
    "    else:\n",
    "        print(f\"I am {age_difference} years older than you.\")\n",
    "elif my_age < your_age:\n",
    "    age_difference = your_age - my_age\n",
    "    if age_difference == 1:\n",
    "        print(\"You are 1 year older than me.\")\n",
    "    else:\n",
    "        print(f\"You are {age_difference} years older than me.\")\n",
    "else:\n",
    "    print(\"We are the same age.\")\n"
   ]
  },
  {
   "cell_type": "markdown",
   "metadata": {},
   "source": [
    "3.Get two numbers from the user using input prompt. If a is greater than b return a is greater than b, if a is less b return a is smaller than b, else a is equal to b. Output:"
   ]
  },
  {
   "cell_type": "code",
   "execution_count": 21,
   "metadata": {},
   "outputs": [
    {
     "name": "stdout",
     "output_type": "stream",
     "text": [
      "45 is smaller than 67\n"
     ]
    }
   ],
   "source": [
    "a = int(input(\"Enter number two: \"))\n",
    "b = int(input(\"Enter number two: \"))\n",
    "\n",
    "if a > b:\n",
    "    print(f\"{a} is greater than {b}\")\n",
    "elif a < b:\n",
    "    print(f\"{a} is smaller than {b}\")\n",
    "else:\n",
    "    print(f\"{a} is equal to {b}\")\n"
   ]
  },
  {
   "cell_type": "markdown",
   "metadata": {},
   "source": [
    "Exercises: Level 2"
   ]
  },
  {
   "cell_type": "markdown",
   "metadata": {},
   "source": [
    "1.Write a code which gives grade to students according to theirs scores:"
   ]
  },
  {
   "cell_type": "code",
   "execution_count": 26,
   "metadata": {},
   "outputs": [
    {
     "name": "stdout",
     "output_type": "stream",
     "text": [
      "The student's grade is: A\n"
     ]
    }
   ],
   "source": [
    "score = int(input(\"Enter the student's score: \"))\n",
    "\n",
    "# grade level \n",
    "if 80 <= score <= 100:\n",
    "    grade = 'A'\n",
    "elif 70 <= score <= 79:\n",
    "    grade = 'B'\n",
    "elif 60 <= score <= 69:\n",
    "    grade = 'C'\n",
    "elif 50 <= score <= 59:\n",
    "    grade = 'D'\n",
    "elif 0 <= score <= 49:\n",
    "    grade = 'F'\n",
    "else:\n",
    "    grade = \"Invalid score\" \n",
    "    \n",
    "print(f\"The student's grade is: {grade}\")\n"
   ]
  },
  {
   "cell_type": "markdown",
   "metadata": {},
   "source": [
    "2.Check if the season is Autumn, Winter, Spring or Summer. If the user input is: September, October or November, the season is Autumn. December, January or February, the season is Winter. March, April or May, the season is Spring June, July or August, the season is Summer"
   ]
  },
  {
   "cell_type": "code",
   "execution_count": 33,
   "metadata": {},
   "outputs": [
    {
     "name": "stdout",
     "output_type": "stream",
     "text": [
      "The season is: Winter\n"
     ]
    }
   ],
   "source": [
    "month = input(\"Enter the month: \").strip().capitalize()\n",
    "\n",
    "# season based on the month\n",
    "if month in [\"September\", \"October\", \"November\"]:\n",
    "    season = \"Autumn\"\n",
    "elif month in [\"December\", \"January\", \"February\"]:\n",
    "    season = \"Winter\"\n",
    "elif month in [\"March\", \"April\", \"May\"]:\n",
    "    season = \"Spring\"\n",
    "elif month in [\"June\", \"July\", \"August\"]:\n",
    "    season = \"Summer\"\n",
    "else:\n",
    "    season = \"Invalid month\"\n",
    "\n",
    "print(f\"The season is: {season}\")\n"
   ]
  },
  {
   "cell_type": "markdown",
   "metadata": {},
   "source": [
    "3.The following list contains some fruits:"
   ]
  },
  {
   "cell_type": "code",
   "execution_count": 35,
   "metadata": {},
   "outputs": [
    {
     "name": "stdout",
     "output_type": "stream",
     "text": [
      "Fruit added! The modified list is:\n",
      "['banana', 'orange', 'mango', 'lemon', 'pear']\n"
     ]
    }
   ],
   "source": [
    "fruits = ['banana', 'orange', 'mango', 'lemon']\n",
    "\n",
    "new_fruit = input(\"Enter a fruit: \").strip().lower()\n",
    "\n",
    "if new_fruit in fruits:\n",
    "    print(\"That fruit already exists in the list\")\n",
    "else:\n",
    "    fruits.append(new_fruit)\n",
    "    print(\"Fruit added! The modified list is:\")\n",
    "    print(fruits)\n"
   ]
  },
  {
   "cell_type": "markdown",
   "metadata": {},
   "source": [
    "EXERCISE LEVEL_3"
   ]
  },
  {
   "cell_type": "markdown",
   "metadata": {},
   "source": [
    "1.Here we have a person dictionary. Feel free to modify it!"
   ]
  },
  {
   "cell_type": "code",
   "execution_count": 37,
   "metadata": {},
   "outputs": [
    {
     "name": "stdout",
     "output_type": "stream",
     "text": [
      "Updated person dictionary:\n",
      "{'first_name': 'Asabeneh', 'last_name': 'Yetayeh', 'age': 30, 'country': 'Finland', 'is_marred': False, 'skills': ['JavaScript', 'React', 'Node', 'MongoDB', 'Python', 'Django', 'Excel'], 'address': {'street': 'Space street', 'zipcode': '02210', 'city': 'Helsinki'}}\n"
     ]
    }
   ],
   "source": [
    "# Original dictionary\n",
    "person = {\n",
    "    'first_name': 'Asabeneh',\n",
    "    'last_name': 'Yetayeh',\n",
    "    'age': 250,\n",
    "    'country': 'Finland',\n",
    "    'is_marred': True,\n",
    "    'skills': ['JavaScript', 'React', 'Node', 'MongoDB', 'Python'],\n",
    "    'address': {\n",
    "        'street': 'Space street',\n",
    "        'zipcode': '02210'\n",
    "    }\n",
    "}\n",
    "\n",
    "# Modify or update the dictionary\n",
    "person['age'] = 30  \n",
    "person['skills'].append('Django')\n",
    "person['skills'].append('Excel')   \n",
    "person['is_marred'] = False        \n",
    "person['address']['city'] = 'Helsinki'  \n",
    "\n",
    "print(\"Updated person dictionary:\")\n",
    "print(person)\n"
   ]
  }
 ],
 "metadata": {
  "kernelspec": {
   "display_name": "ArewaDs-Training",
   "language": "python",
   "name": "python3"
  },
  "language_info": {
   "codemirror_mode": {
    "name": "ipython",
    "version": 3
   },
   "file_extension": ".py",
   "mimetype": "text/x-python",
   "name": "python",
   "nbconvert_exporter": "python",
   "pygments_lexer": "ipython3",
   "version": "3.12.8"
  }
 },
 "nbformat": 4,
 "nbformat_minor": 2
}
