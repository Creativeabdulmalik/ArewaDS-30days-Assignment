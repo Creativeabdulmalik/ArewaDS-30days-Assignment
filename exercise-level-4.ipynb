{
 "cells": [
  {
   "cell_type": "markdown",
   "metadata": {},
   "source": [
    "# EXERCISE MODULE_4"
   ]
  },
  {
   "cell_type": "code",
   "execution_count": null,
   "metadata": {},
   "outputs": [],
   "source": [
    " ## Concatenate the string 'Thirty', 'Days', 'Of', 'Python' to a single string, 'Thirty Days Of Python\n",
    " sentence = 'Thirty', 'Days', 'Of', 'Python' \n",
    "\n",
    " my_result = 'Thirty' + ' ' + 'Days' + ' ' + 'Of' + ' ' + 'Python'\n",
    "print(my_result)\n",
    "\n",
    "## another way of doing it\n",
    "\n",
    "my_result = ' '.join(['Thirty', 'Days', 'Of', 'Python' ])\n",
    "print(my_result)\n"
   ]
  },
  {
   "cell_type": "code",
   "execution_count": null,
   "metadata": {},
   "outputs": [],
   "source": [
    "## Concatenate the string 'Coding', 'For' , 'All' to a single string, 'Coding For All'.\n",
    "message = 'Coding', 'For' , 'All'\n",
    "\n",
    "my_message = ' '.join(['Coding', 'For' , 'All'])\n",
    "\n",
    "print(my_message)"
   ]
  },
  {
   "cell_type": "code",
   "execution_count": null,
   "metadata": {},
   "outputs": [],
   "source": [
    "## Declare a variable named company and assign it to an initial value \"Coding For All\".\n",
    "company = \"Coding For All\""
   ]
  },
  {
   "cell_type": "code",
   "execution_count": null,
   "metadata": {},
   "outputs": [],
   "source": [
    "## Print the variable company using print().\n",
    "company = \"Coding For All\"\n",
    "print(company)"
   ]
  },
  {
   "cell_type": "code",
   "execution_count": null,
   "metadata": {},
   "outputs": [],
   "source": [
    "## Print the length of the company string using len() method and print().\n",
    "company = \"coding for all\"\n",
    "len(company)\n",
    "\n",
    "print(len(company))\n"
   ]
  },
  {
   "cell_type": "code",
   "execution_count": null,
   "metadata": {},
   "outputs": [],
   "source": [
    "## Change all the characters to uppercase letters using upper() method.\n",
    "company = \"coding for all\"\n",
    "print(company.upper())"
   ]
  },
  {
   "cell_type": "code",
   "execution_count": null,
   "metadata": {},
   "outputs": [],
   "source": [
    "##  Change all the characters to lowercase letters using lower() method.\n",
    "company = \"CODING FOR ALL\"\n",
    "print(company.lower())"
   ]
  },
  {
   "cell_type": "code",
   "execution_count": null,
   "metadata": {},
   "outputs": [],
   "source": [
    "## Use capitalize(), title(), swapcase() methods to format the value of the string Coding For All.\n",
    "company = \"coding for all\"\n",
    "print(company.capitalize())\n",
    "print(company.title( ))\n",
    "print(company.swapcase())"
   ]
  },
  {
   "cell_type": "code",
   "execution_count": null,
   "metadata": {},
   "outputs": [],
   "source": [
    "## Cut(slice) out the first word of Coding For All string.\n",
    "company = \"coding for all\"\n",
    "first_three = company[0:3]\n",
    "print(first_three)\n",
    "\n",
    "last_three = company[3:6]\n",
    "print(last_three)"
   ]
  },
  {
   "cell_type": "code",
   "execution_count": null,
   "metadata": {},
   "outputs": [],
   "source": [
    "## Check if Coding For All string contains a word Coding using the method index, find or other methods.\n",
    "text = \"Coding For All\"\n",
    "word = \"Coding\"\n",
    "\n",
    "if text.find(word) != -1:\n",
    "    print(f\"The word '{word}' is found in the string.\")\n"
   ]
  },
  {
   "cell_type": "code",
   "execution_count": null,
   "metadata": {},
   "outputs": [],
   "source": [
    "## Replace the word coding in the string 'Coding For All' to Python.\n",
    "company = \"Coding For All\"\n",
    "\n",
    "new_company = text.replace(\"Coding\", \"Python\")\n",
    "\n",
    "print(new_company)\n"
   ]
  },
  {
   "cell_type": "code",
   "execution_count": null,
   "metadata": {},
   "outputs": [],
   "source": [
    "## Change Python for Everyone to Python for All using the replace method or other methods.\n",
    "text = \"Python for Everyone\"\n",
    "new_text_ = text.replace(\"Everyone\", \"All\")\n",
    "print(new_text)\n"
   ]
  },
  {
   "cell_type": "code",
   "execution_count": null,
   "metadata": {},
   "outputs": [],
   "source": [
    "## Split the string 'Coding For All' using space as the separator (split()) .\n",
    "company = 'coding for all'\n",
    "print(company.split())"
   ]
  },
  {
   "cell_type": "code",
   "execution_count": null,
   "metadata": {},
   "outputs": [],
   "source": [
    "## \"Facebook, Google, Microsoft, Apple, IBM, Oracle, Amazon\" split the string at the comma.\n",
    "company_text = \"Facebook, Google, Microsoft, Apple, IBM, Oracle, Amazon\"\n",
    "print(company_text.split(','))"
   ]
  },
  {
   "cell_type": "code",
   "execution_count": null,
   "metadata": {},
   "outputs": [],
   "source": [
    "## What is the character at index 0 in the string Coding For All.\n",
    "company = 'coding for all'\n",
    "\n",
    "char_at_index_0 = company[0]\n",
    "\n",
    "print(char_at_index_0)\n",
    "\n"
   ]
  },
  {
   "cell_type": "code",
   "execution_count": null,
   "metadata": {},
   "outputs": [],
   "source": [
    "## What is the last index of the string Coding For All.\n",
    "text = \"Coding For All\"\n",
    "last_index = len(text) - 1\n",
    "print(last_index)\n"
   ]
  },
  {
   "cell_type": "code",
   "execution_count": null,
   "metadata": {},
   "outputs": [],
   "source": [
    "## What character is at index 10 in \"Coding For All\" string\n",
    "company = \"Coding For All\"\n",
    "\n",
    "char_at_index_10 = text[-10]\n",
    "\n",
    "print(char_at_index_10)"
   ]
  },
  {
   "cell_type": "code",
   "execution_count": null,
   "metadata": {},
   "outputs": [],
   "source": [
    "## Create an acronym or an abbreviation for the name 'Python For Everyone'\n",
    "phrase = \"Python For Everyone\"\n",
    "acronym = ''.join([word[0] for word in phrase.split()])\n",
    "print(acronym)\n",
    "\n"
   ]
  },
  {
   "cell_type": "code",
   "execution_count": null,
   "metadata": {},
   "outputs": [],
   "source": [
    "## Create an acronym or an abbreviation for the name 'Coding For All'\n",
    "phrase_word = \"Coding For All\"\n",
    "acronym = ''.join([word[0] for word in phrase_word.split()])\n",
    "print(acronym)\n"
   ]
  },
  {
   "cell_type": "code",
   "execution_count": null,
   "metadata": {},
   "outputs": [],
   "source": [
    "## Use index to determine the position of the first occurrence of C in Coding For All.\n",
    "company = \"Coding For All\"\n",
    "position = text.index(\"C\")\n",
    "print(position)\n"
   ]
  },
  {
   "cell_type": "code",
   "execution_count": null,
   "metadata": {},
   "outputs": [],
   "source": [
    "## Use index to determine the position of the first occurrence of F in Coding For All.\n",
    "company = \"Coding For All\"\n",
    "position = text.index(\"F\")\n",
    "print(position)\n"
   ]
  },
  {
   "cell_type": "code",
   "execution_count": null,
   "metadata": {},
   "outputs": [],
   "source": [
    "## Use rfind to determine the position of the last occurrence of l in Coding For All People.\n",
    "company = \"Coding For All\"\n",
    "print(company.rfind('l')) "
   ]
  },
  {
   "cell_type": "code",
   "execution_count": null,
   "metadata": {},
   "outputs": [],
   "source": [
    "## Use index or find to find the position of the first occurrence of the word 'because' in the following sentence: 'You cannot end a sentence with because because because is a conjunction'\n",
    "sentence = 'You cannot end a sentence with because because because is a conjunction'\n",
    "print(sentence.find('because'))"
   ]
  },
  {
   "cell_type": "code",
   "execution_count": null,
   "metadata": {},
   "outputs": [],
   "source": [
    "## 'You cannot end a sentence with because because because is a conjunction'\n",
    "sentence = 'You cannot end a sentence with because because because is a conjunction'\n",
    "sub_string = 'because'\n",
    "print(sentence.rindex(sub_string)) \n"
   ]
  },
  {
   "cell_type": "code",
   "execution_count": null,
   "metadata": {},
   "outputs": [],
   "source": [
    "## Slice out the phrase 'because because because' in the following sentence: 'You cannot end a sentence with because because because is a conjunction'\n",
    "start_index = sentence.find(\"because\")\n",
    "\n",
    "end_index = start_index + len(\"because because because\")\n",
    "\n",
    "sliced_phrase = sentence[start_index:end_index]\n",
    "\n",
    "print(sliced_phrase)"
   ]
  },
  {
   "cell_type": "code",
   "execution_count": null,
   "metadata": {},
   "outputs": [],
   "source": [
    "## Find the position of the first occurrence of the word 'because' in the following sentence: 'You cannot end a sentence with because because because is a conjunction'\n",
    "sentence = \"You cannot end a sentence with because because because is a conjunction\"\n",
    "\n",
    "first_position = sentence.find(\"because\")\n",
    "\n",
    "print(first_position)\n",
    "\n"
   ]
  },
  {
   "cell_type": "code",
   "execution_count": null,
   "metadata": {},
   "outputs": [],
   "source": [
    "## to slice_out word phrase'because x 2'\n",
    "start_index = sentence.find(\"because\")\n",
    "\n",
    "end_index = start_index + len(\"because because because\")\n",
    "\n",
    "sliced_phrase = sentence[start_index:end_index]\n",
    "\n",
    "print(sliced_phrase)"
   ]
  },
  {
   "cell_type": "code",
   "execution_count": null,
   "metadata": {},
   "outputs": [],
   "source": [
    "## Does ''Coding For All' start with a substring Coding?\n",
    "word_start = 'Coding For All'\n",
    "print(word_start.startswith('Coding'))"
   ]
  },
  {
   "cell_type": "code",
   "execution_count": null,
   "metadata": {},
   "outputs": [],
   "source": [
    "## Does 'Coding For All' end with a substring coding?\n",
    "word = 'Coding For All'\n",
    "print(word.endswith('Coding'))"
   ]
  },
  {
   "cell_type": "code",
   "execution_count": null,
   "metadata": {},
   "outputs": [],
   "source": [
    "## '   Coding For All    '  , remove the left and right trailing spaces in the given string.\n",
    "\n",
    "word = '  coding for all    '\n",
    "\n",
    "trimmed_word = text.strip()\n",
    "\n",
    "print(trimmed_word)\n",
    "\n"
   ]
  },
  {
   "cell_type": "code",
   "execution_count": null,
   "metadata": {},
   "outputs": [],
   "source": [
    "## Which one of the following variables return True when we use the method isidentifier():\n",
    "\n",
    "word_1 = \"30DaysOfPython\"\n",
    "\n",
    "print(word_1.isidentifier())\n",
    "\n",
    "word_2 = 'thirty_days_of_python'\n",
    "print(word_2.isidentifier())"
   ]
  },
  {
   "cell_type": "code",
   "execution_count": null,
   "metadata": {},
   "outputs": [],
   "source": [
    "## python libraries: ['Django', 'Flask', 'Bottle', 'Pyramid', 'Falcon']. Join the list with a hash with space string.\n",
    "python_library = ['Django', 'Flask', 'Bottle', 'Pyramid', 'Falcon']\n",
    "library = '#'.join(['Django', 'Flask', 'Bottle', 'Pyramid', 'Falcon'])\n",
    "print(library)"
   ]
  },
  {
   "cell_type": "code",
   "execution_count": null,
   "metadata": {},
   "outputs": [],
   "source": [
    "## Use the new line escape sequence to separate the following sentence\n",
    "'I am enjoying this challenge'\n",
    "'I just wonder what is next'\n",
    "print('I \\n am \\n enjoying \\n this \\n challenge ')\n",
    "print('I \\n  just \\n  wonder \\n what \\n  is \\n  next')"
   ]
  },
  {
   "cell_type": "code",
   "execution_count": null,
   "metadata": {},
   "outputs": [],
   "source": [
    "## Use a tab escape sequence to write the following lines\n",
    "\n",
    "'Name      Age     Country   City'\n",
    "'Abdulmalik 26      Nigeria   Dutse'\n",
    "\n",
    "print('Name\\tAge\\tCounty\\tCity')\n",
    "print('Abdulmalik\\t26\\tNigeria\\tDutse')"
   ]
  },
  {
   "cell_type": "code",
   "execution_count": null,
   "metadata": {},
   "outputs": [],
   "source": [
    "## Use the string formatting method to display the following\n",
    "radius = 10\n",
    "area = 3.14 * radius ** 2\n",
    "message = \"The area of a circle with radius {} is {:.0f} meters square\".format(radius, area)\n",
    "print(message)\n"
   ]
  },
  {
   "cell_type": "code",
   "execution_count": null,
   "metadata": {},
   "outputs": [],
   "source": [
    "## Make the following using string formatting methods\n",
    "a = 8\n",
    "b = 6\n",
    "\n",
    "print('{} + {} = {}'.format(a, b, a + b))\n",
    "print('{} - {} = {}'.format(a, b, a - b))\n",
    "print('{} * {} = {}'.format(a, b, a * b))\n",
    "print('{} / {} = {}'.format(a, b, a / b))\n",
    "print('{} % {} = {}'.format(a, b, a % b))\n",
    "print('{} // {} = {}'.format(a, b, a // b))\n",
    "print('{} ** {} = {}'.format(a, b, a ** b))"
   ]
  }
 ],
 "metadata": {
  "kernelspec": {
   "display_name": "ArewaDs-Training",
   "language": "python",
   "name": "python3"
  },
  "language_info": {
   "codemirror_mode": {
    "name": "ipython",
    "version": 3
   },
   "file_extension": ".py",
   "mimetype": "text/x-python",
   "name": "python",
   "nbconvert_exporter": "python",
   "pygments_lexer": "ipython3",
   "version": "3.12.7"
  }
 },
 "nbformat": 4,
 "nbformat_minor": 2
}
