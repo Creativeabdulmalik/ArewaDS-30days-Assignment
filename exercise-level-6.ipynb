{
 "cells": [
  {
   "cell_type": "markdown",
   "metadata": {},
   "source": [
    "# EXERCISE MODULE_6"
   ]
  },
  {
   "cell_type": "markdown",
   "metadata": {},
   "source": [
    "1.Create an empty dictionary called dog"
   ]
  },
  {
   "cell_type": "code",
   "execution_count": 1,
   "metadata": {},
   "outputs": [],
   "source": [
    "dog = {}"
   ]
  },
  {
   "cell_type": "markdown",
   "metadata": {},
   "source": [
    "2.Add name, color, breed, legs, age to the dog dictionary\n"
   ]
  },
  {
   "cell_type": "code",
   "execution_count": 2,
   "metadata": {},
   "outputs": [],
   "source": [
    "dog = { 'dog_name':'africanbull', 'color':'black','breed':'africa','leg':'blackwhite','age':'7'}"
   ]
  },
  {
   "cell_type": "markdown",
   "metadata": {},
   "source": [
    "3.Create a student dictionary and add first_name, last_name, gender, age, marital status, skills, country, city and address as keys for the dictionary"
   ]
  },
  {
   "cell_type": "code",
   "execution_count": 13,
   "metadata": {},
   "outputs": [],
   "source": [
    "student_information = {'first_name':'abdulmalik',\n",
    "'last_name':'Bashir',\n",
    "'gender':'male',\n",
    "'marital_status':'single',\n",
    "'skills':['data entry','execl','python'],\n",
    "'country':'nigeria',\n",
    "'city':'dutse',\n",
    "'address':{\n",
    "    'street':'State secrteriat road',\n",
    "    'zipcode':'10001',\n",
    "}\n",
    "}"
   ]
  },
  {
   "cell_type": "markdown",
   "metadata": {},
   "source": [
    "4.Get the length of the student dictionary"
   ]
  },
  {
   "cell_type": "code",
   "execution_count": 16,
   "metadata": {},
   "outputs": [
    {
     "name": "stdout",
     "output_type": "stream",
     "text": [
      "8\n"
     ]
    }
   ],
   "source": [
    "student_information = {'first_name':'abdulmalik',\n",
    "'last_name':'Bashir',\n",
    "'gender':'male',\n",
    "'marital_status':'single',\n",
    "'skills':['data entry','execl','python'],\n",
    "'country':'nigeria',\n",
    "'city':'dutse',\n",
    "'address':{\n",
    "    'street':'State secrteriat road',\n",
    "    'zipcode':'10001',\n",
    "}\n",
    "}\n",
    "\n",
    "print(len(student_information))"
   ]
  },
  {
   "cell_type": "markdown",
   "metadata": {},
   "source": [
    "5.Get the value of skills and check the data type, it should be a list"
   ]
  },
  {
   "cell_type": "code",
   "execution_count": 18,
   "metadata": {},
   "outputs": [
    {
     "name": "stdout",
     "output_type": "stream",
     "text": [
      "dict_values(['abdulmalik', 'Bashir', 'male', 'single', ['data entry', 'execl', 'python'], 'nigeria', 'dutse', {'street': 'State secrteriat road', 'zipcode': '10001'}])\n"
     ]
    }
   ],
   "source": [
    "student_information = {'first_name':'abdulmalik',\n",
    "'last_name':'Bashir',\n",
    "'gender':'male',\n",
    "'marital_status':'single',\n",
    "'skills':['data entry','execl','python'],\n",
    "'country':'nigeria',\n",
    "'city':'dutse',\n",
    "'address':{\n",
    "    'street':'State secrteriat road',\n",
    "    'zipcode':'10001',\n",
    "}\n",
    "}\n",
    "\n",
    "values = student_information.values()\n",
    "print(values)"
   ]
  },
  {
   "cell_type": "markdown",
   "metadata": {},
   "source": [
    "6.Modify the skills values by adding one or two skills"
   ]
  },
  {
   "cell_type": "code",
   "execution_count": 44,
   "metadata": {},
   "outputs": [
    {
     "name": "stdout",
     "output_type": "stream",
     "text": [
      "{'first_name': 'abdulmalik', 'last_name': 'Bashir', 'gender': 'male', 'marital_status': 'single', 'skills': ['data entry', 'execl', 'python', 'tableau', 'machine learning'], 'country': 'nigeria', 'city': 'dutse', 'address': {'street': 'State secrteriat road', 'zipcode': '10001'}}\n"
     ]
    }
   ],
   "source": [
    "student_information = {'first_name':'abdulmalik',\n",
    "'last_name':'Bashir',\n",
    "'gender':'male',\n",
    "'marital_status':'single',\n",
    "'skills':['data entry','execl','python'],\n",
    "'country':'nigeria',\n",
    "'city':'dutse',\n",
    "'address':{\n",
    "    'street':'State secrteriat road',\n",
    "    'zipcode':'10001',\n",
    "}\n",
    "}\n",
    "\n",
    "# Adding multiple skills in to list.\n",
    "student_information['skills'].extend(['tableau', 'machine learning'])\n",
    "\n",
    "print(student_information)"
   ]
  },
  {
   "cell_type": "markdown",
   "metadata": {},
   "source": [
    "7.Get the dictionary keys as a list"
   ]
  },
  {
   "cell_type": "code",
   "execution_count": 45,
   "metadata": {},
   "outputs": [
    {
     "name": "stdout",
     "output_type": "stream",
     "text": [
      "dict_keys(['first_name', 'last_name', 'gender', 'marital_status', 'skills', 'country', 'city', 'address'])\n"
     ]
    }
   ],
   "source": [
    "student_information = {'first_name':'abdulmalik',\n",
    "'last_name':'Bashir',\n",
    "'gender':'male',\n",
    "'marital_status':'single',\n",
    "'skills':['data entry','execl','python'],\n",
    "'country':'nigeria',\n",
    "'city':'dutse',\n",
    "'address':{\n",
    "    'street':'State secrteriat road',\n",
    "    'zipcode':'10001',\n",
    "}\n",
    "}\n",
    "keys = student_information.keys()\n",
    "print(keys)"
   ]
  },
  {
   "cell_type": "markdown",
   "metadata": {},
   "source": [
    "8.Get the dictionary values as a list"
   ]
  },
  {
   "cell_type": "code",
   "execution_count": 46,
   "metadata": {},
   "outputs": [
    {
     "name": "stdout",
     "output_type": "stream",
     "text": [
      "dict_values(['abdulmalik', 'Bashir', 'male', 'single', ['data entry', 'execl', 'python'], 'nigeria', 'dutse', {'street': 'State secrteriat road', 'zipcode': '10001'}])\n"
     ]
    }
   ],
   "source": [
    "values = student_information.values()\n",
    "print(values)"
   ]
  },
  {
   "cell_type": "markdown",
   "metadata": {},
   "source": [
    "9.Change the dictionary to a list of tuples using items() method"
   ]
  },
  {
   "cell_type": "code",
   "execution_count": 48,
   "metadata": {},
   "outputs": [
    {
     "name": "stdout",
     "output_type": "stream",
     "text": [
      "dict_items([('first_name', 'abdulmalik'), ('last_name', 'Bashir'), ('gender', 'male'), ('marital_status', 'single'), ('skills', ['data entry', 'execl', 'python']), ('country', 'nigeria'), ('city', 'dutse'), ('address', {'street': 'State secrteriat road', 'zipcode': '10001'})])\n"
     ]
    }
   ],
   "source": [
    "print(student_information.items())"
   ]
  },
  {
   "cell_type": "markdown",
   "metadata": {},
   "source": [
    "10.Delete one of the items in the dictionary"
   ]
  },
  {
   "cell_type": "code",
   "execution_count": 70,
   "metadata": {},
   "outputs": [
    {
     "name": "stdout",
     "output_type": "stream",
     "text": [
      "{'first_name': 'abdulmalik', 'last_name': 'Bashir', 'gender': 'male', 'marital_status': 'single', 'skills': ['data entry', 'execl', 'python'], 'country': 'nigeria', 'address': {'street': 'State secrteriat road', 'zipcode': '10001'}}\n"
     ]
    }
   ],
   "source": [
    "\n",
    "student_information = {\n",
    "    'first_name': 'abdulmalik',\n",
    "    'last_name': 'Bashir',\n",
    "    'gender': 'male',\n",
    "    'marital_status': 'single',\n",
    "    'skills': ['data entry', 'execl', 'python'],\n",
    "    'country': 'nigeria',\n",
    "    'city': 'dutse',\n",
    "    'address': {\n",
    "        'street': 'State secrteriat road',\n",
    "        'zipcode': '10001',\n",
    "    }\n",
    "}\n",
    "del student_information['city']\n",
    "\n",
    "print(student_information)\n"
   ]
  },
  {
   "cell_type": "markdown",
   "metadata": {},
   "source": [
    "11.Delete one of the dictionaries"
   ]
  },
  {
   "cell_type": "code",
   "execution_count": 73,
   "metadata": {},
   "outputs": [
    {
     "name": "stdout",
     "output_type": "stream",
     "text": [
      "{'first_name': 'abdulmalik', 'last_name': 'Bashir', 'gender': 'male', 'marital_status': 'single', 'skills': ['data entry', 'execl', 'python'], 'country': 'nigeria', 'city': 'dutse'}\n"
     ]
    }
   ],
   "source": [
    "\n",
    "student_information = {\n",
    "    'first_name': 'abdulmalik',\n",
    "    'last_name': 'Bashir',\n",
    "    'gender': 'male',\n",
    "    'marital_status': 'single',\n",
    "    'skills': ['data entry', 'execl', 'python'],\n",
    "    'country': 'nigeria',\n",
    "    'city': 'dutse',\n",
    "    'address': {\n",
    "        'street': 'State secrteriat road',\n",
    "        'zipcode': '10001',\n",
    "    }\n",
    "}\n",
    "\n",
    "del student_information['address']\n",
    "print(student_information)"
   ]
  }
 ],
 "metadata": {
  "kernelspec": {
   "display_name": "ArewaDs-Training",
   "language": "python",
   "name": "python3"
  },
  "language_info": {
   "codemirror_mode": {
    "name": "ipython",
    "version": 3
   },
   "file_extension": ".py",
   "mimetype": "text/x-python",
   "name": "python",
   "nbconvert_exporter": "python",
   "pygments_lexer": "ipython3",
   "version": "3.12.8"
  }
 },
 "nbformat": 4,
 "nbformat_minor": 2
}
