{
 "cells": [
  {
   "cell_type": "markdown",
   "metadata": {},
   "source": [
    "# Day 2: 30 Days of python programming"
   ]
  },
  {
   "cell_type": "markdown",
   "metadata": {},
   "source": [
    "### EXCERCISE: LEVEL_1"
   ]
  },
  {
   "cell_type": "code",
   "execution_count": null,
   "metadata": {},
   "outputs": [],
   "source": [
    "first_name = 'abdulmalik'\n",
    "last_name = 'bashir'\n",
    "country = 'nigeria'\n",
    "city = 'dutse'\n",
    "age = '26'\n",
    "year = '1999'\n",
    "is_married = 'true'\n",
    "is_true = 'yes'\n",
    "is_light_on = 'no'\n",
    "a , b = 1, 2"
   ]
  },
  {
   "cell_type": "markdown",
   "metadata": {},
   "source": [
    "### EXCERCISE: LEVEL_2"
   ]
  },
  {
   "cell_type": "code",
   "execution_count": null,
   "metadata": {},
   "outputs": [],
   "source": [
    "print(type('abdulmalik'))\n",
    "print(type('bashir'))\n",
    "print(type('nigeria'))\n",
    "print(type('dutse'))\n",
    "print(type(26))\n",
    "print(type(1999))\n",
    "print(type('true'))\n",
    "print(type('yes'))\n",
    "print(type('no'))\n",
    "print(type( 1 or 2))"
   ]
  },
  {
   "cell_type": "code",
   "execution_count": null,
   "metadata": {},
   "outputs": [],
   "source": [
    "## find the length of my first name\n",
    "first_name = \"abdulmalik\"\n",
    "length = len(first_name)  \n",
    "print(f\"The length of my first name '{first_name}' is {length}.\")\n"
   ]
  },
  {
   "cell_type": "code",
   "execution_count": null,
   "metadata": {},
   "outputs": [],
   "source": [
    "## compare my first name and last name\n",
    "first_name = \"abdulmalik\"\n",
    "last_name = \"bashir\"\n",
    "\n",
    "first_name_length = len('abdulmalik')\n",
    "last_name_length = len('bashir')\n",
    "\n",
    "if first_name_length > last_name_length:\n",
    "    print(f\"My first name '{first_name}' is longer than my last name '{last_name}'.\")\n",
    "elif first_name_length < last_name_length:\n",
    "    print(f\"My last name '{last_name}' is longer than my first name '{first_name}'.\")\n",
    "else:\n",
    "    print(f\"My first name '{first_name}' and last name '{last_name}' are the same length.\")\n",
    "\n",
    "print(f\"The length of my first name is {first_name_length}.\")\n",
    "print(f\"The length of my last name is {last_name_length}.\")"
   ]
  },
  {
   "cell_type": "code",
   "execution_count": null,
   "metadata": {},
   "outputs": [],
   "source": [
    "## Declare 5 and 4\n",
    "num_one = 5\n",
    "num_two = 4\n",
    "\n",
    "sum_total = num_one + num_two\n",
    "print(sum)\n",
    "\n",
    "## difference\n",
    "difference = num_one - num_two \n",
    "print(difference) \n",
    "\n",
    "## product\n",
    "product = num_one * num_two\n",
    "print(product)\n",
    "\n",
    "## Division\n",
    "quotient = num_one / num_two \n",
    "print(quotient)\n",
    "\n",
    "## reminder\n",
    "reminder = num_one % num_two\n",
    "print(reminder)\n",
    "\n",
    "## exp\n",
    "exp = num_one ** num_two\n",
    "print(exp)\n",
    "\n",
    "## floor_division\n",
    "integer_division = num_one // num_two\n",
    "print(integer_division)\n"
   ]
  },
  {
   "cell_type": "code",
   "execution_count": null,
   "metadata": {},
   "outputs": [],
   "source": [
    "## find radius\n",
    "radius = 30\n",
    "\n",
    "import math\n",
    "\n",
    "area_of_circle = math.pi * (radius ** 2)\n",
    "circuim_of_circle = 2 * math.pi * radius\n",
    "\n",
    "print( area_of_circle)\n",
    "print(circuim_of_circle)\n",
    "\n"
   ]
  },
  {
   "cell_type": "code",
   "execution_count": null,
   "metadata": {},
   "outputs": [],
   "source": [
    "import math\n",
    "radius = float (30)\n",
    "  \n",
    "area_of_circle = math.pi * (radius ** 2)\n",
    "    \n",
    "print(f\"The area of the circle with radius {2827.4333882308138} meters is {188.49555921538757:.2f} 2.\")\n"
   ]
  },
  {
   "cell_type": "code",
   "execution_count": null,
   "metadata": {},
   "outputs": [],
   "source": [
    "# \n",
    "first_name = (\"abdulmalik\")\n",
    "last_name = (\"bashir\")\n",
    "country = (\"nigeria\")\n",
    "age = (\"26\")\n",
    "\n",
    "print(first_name)\n",
    "print(last_name)\n",
    "print(country)\n",
    "print(age)"
   ]
  },
  {
   "cell_type": "code",
   "execution_count": null,
   "metadata": {},
   "outputs": [],
   "source": [
    "## help in python\n",
    "\n",
    "help('keywords')\n"
   ]
  }
 ],
 "metadata": {
  "kernelspec": {
   "display_name": "ArewaDs-Training",
   "language": "python",
   "name": "python3"
  },
  "language_info": {
   "codemirror_mode": {
    "name": "ipython",
    "version": 3
   },
   "file_extension": ".py",
   "mimetype": "text/x-python",
   "name": "python",
   "nbconvert_exporter": "python",
   "pygments_lexer": "ipython3",
   "version": "3.12.7"
  }
 },
 "nbformat": 4,
 "nbformat_minor": 2
}
