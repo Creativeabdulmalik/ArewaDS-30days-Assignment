{
 "cells": [
  {
   "cell_type": "markdown",
   "metadata": {},
   "source": [
    "# EXERCISE MODULE_8"
   ]
  },
  {
   "cell_type": "markdown",
   "metadata": {},
   "source": [
    "Exercises: Level 1"
   ]
  },
  {
   "cell_type": "markdown",
   "metadata": {},
   "source": [
    "1.Iterate 0 to 10 using for loop, do the same using while loop."
   ]
  },
  {
   "cell_type": "code",
   "execution_count": null,
   "metadata": {},
   "outputs": [],
   "source": [
    "count = 0\n",
    "while count < 11:\n",
    "    print(count)\n",
    "    count = count +1"
   ]
  },
  {
   "cell_type": "markdown",
   "metadata": {},
   "source": [
    "2.Iterate 10 to 0 using for loop, do the same using while loop."
   ]
  },
  {
   "cell_type": "code",
   "execution_count": 37,
   "metadata": {},
   "outputs": [
    {
     "name": "stdout",
     "output_type": "stream",
     "text": [
      "10\n",
      "9\n",
      "8\n",
      "7\n",
      "6\n",
      "5\n",
      "4\n",
      "3\n",
      "2\n",
      "1\n",
      "0\n",
      "10\n",
      "9\n",
      "8\n",
      "7\n",
      "6\n",
      "5\n",
      "4\n",
      "3\n",
      "2\n",
      "1\n",
      "0\n"
     ]
    }
   ],
   "source": [
    "# Using for loop\n",
    "for i in range(10, -1, -1):\n",
    "    print(i)\n",
    "\n",
    "# Using while loop\n",
    "i = 10  \n",
    "while i >= 0: \n",
    "    print(i)\n",
    "    i -= 1 \n"
   ]
  },
  {
   "cell_type": "markdown",
   "metadata": {},
   "source": [
    "3.Write a loop that makes seven calls to print(), so we get on the output the following triangle:"
   ]
  },
  {
   "cell_type": "code",
   "execution_count": 33,
   "metadata": {},
   "outputs": [
    {
     "name": "stdout",
     "output_type": "stream",
     "text": [
      "#\n",
      "##\n",
      "###\n",
      "####\n",
      "#####\n",
      "######\n",
      "#######\n"
     ]
    }
   ],
   "source": [
    "# print rectangle\n",
    "for i in range(1, 8): \n",
    "    print('#' * i)\n"
   ]
  },
  {
   "cell_type": "markdown",
   "metadata": {},
   "source": [
    "4.Use nested loops to create the following:"
   ]
  },
  {
   "cell_type": "code",
   "execution_count": 38,
   "metadata": {},
   "outputs": [
    {
     "name": "stdout",
     "output_type": "stream",
     "text": [
      "# # # # # # # # \n",
      "# # # # # # # # \n",
      "# # # # # # # # \n",
      "# # # # # # # # \n",
      "# # # # # # # # \n",
      "# # # # # # # # \n",
      "# # # # # # # # \n",
      "# # # # # # # # \n"
     ]
    }
   ],
   "source": [
    "# Outer loop for rows\n",
    "for i in range(8):  \n",
    "    # Inner loop for columns\n",
    "    for j in range(8): \n",
    "        print('#', end=' ')\n",
    "    print()\n"
   ]
  },
  {
   "cell_type": "markdown",
   "metadata": {},
   "source": [
    "5.Print the following pattern:"
   ]
  },
  {
   "cell_type": "code",
   "execution_count": null,
   "metadata": {},
   "outputs": [
    {
     "name": "stdout",
     "output_type": "stream",
     "text": [
      "0 x 0 = 0\n",
      "1 x 1 = 1\n",
      "2 x 2 = 4\n",
      "3 x 3 = 9\n",
      "4 x 4 = 16\n",
      "5 x 5 = 25\n",
      "6 x 6 = 36\n",
      "7 x 7 = 49\n",
      "8 x 8 = 64\n",
      "9 x 9 = 81\n",
      "10 x 10 = 100\n"
     ]
    }
   ],
   "source": [
    "# Loop from 0 to 10\n",
    "for i in range(11):\n",
    "    print(f\"{i} x {i} = {i * i}\")\n"
   ]
  },
  {
   "cell_type": "markdown",
   "metadata": {},
   "source": [
    "6.iterate through the list, ['Python', 'Numpy','Pandas','Django', 'Flask'] using a for loop and print out the items."
   ]
  },
  {
   "cell_type": "code",
   "execution_count": 41,
   "metadata": {},
   "outputs": [
    {
     "name": "stdout",
     "output_type": "stream",
     "text": [
      "Python\n",
      "Numpy\n",
      "Pandas\n",
      "Django\n"
     ]
    }
   ],
   "source": [
    "language = 'Python','Numpy','Pandas','Django'\n",
    "for letter in language:\n",
    "    print(letter)"
   ]
  },
  {
   "cell_type": "markdown",
   "metadata": {},
   "source": [
    "7.Use for loop to iterate from 0 to 100 and print only even numbers"
   ]
  },
  {
   "cell_type": "code",
   "execution_count": null,
   "metadata": {},
   "outputs": [],
   "source": [
    "# Loop from 0 to  for even\n",
    "for i in range(0, 101): \n",
    "    if i % 2 == 0:  \n",
    "        print(i)\n"
   ]
  },
  {
   "cell_type": "markdown",
   "metadata": {},
   "source": [
    "8.Use for loop to iterate from 0 to 100 and print only odd numbers"
   ]
  },
  {
   "cell_type": "code",
   "execution_count": null,
   "metadata": {},
   "outputs": [],
   "source": [
    "# Loop from 0 to 100 for odd\n",
    "for i in range(0, 101): \n",
    "    if i % 2 != 0: \n",
    "        print(i)\n"
   ]
  },
  {
   "cell_type": "markdown",
   "metadata": {},
   "source": [
    "# Exercise-level-2"
   ]
  },
  {
   "cell_type": "markdown",
   "metadata": {},
   "source": [
    "1.Use for loop to iterate from 0 to 100 and print the sum of all numbers."
   ]
  },
  {
   "cell_type": "code",
   "execution_count": 27,
   "metadata": {},
   "outputs": [
    {
     "name": "stdout",
     "output_type": "stream",
     "text": [
      "The sum of all numbers from 0 to 100 is: 5050\n"
     ]
    }
   ],
   "source": [
    "total_sum = 0\n",
    "# Loop through numbers from 0 to 100\n",
    "for i in range(101): \n",
    "    total_sum += i  \n",
    "print(f\"The sum of all numbers from 0 to 100 is: {total_sum}\")\n"
   ]
  },
  {
   "cell_type": "markdown",
   "metadata": {},
   "source": [
    "2.Use for loop to iterate from 0 to 100 and print the sum of all evens and the sum of all odds."
   ]
  },
  {
   "cell_type": "code",
   "execution_count": 28,
   "metadata": {},
   "outputs": [
    {
     "name": "stdout",
     "output_type": "stream",
     "text": [
      "The sum of all even numbers from 0 to 100 is: 2550\n",
      "The sum of all odd numbers from 0 to 100 is: 2500\n"
     ]
    }
   ],
   "source": [
    "# Initialize sums\n",
    "sum_evens = 0\n",
    "sum_odds = 0\n",
    "\n",
    "# Loop through numbers from 0 to 100\n",
    "for i in range(101):  \n",
    "    if i % 2 == 0:  \n",
    "        sum_evens += i\n",
    "    else: \n",
    "        sum_odds += i\n",
    "\n",
    "print(f\"The sum of all even numbers from 0 to 100 is: {sum_evens}\")\n",
    "print(f\"The sum of all odd numbers from 0 to 100 is: {sum_odds}\")\n"
   ]
  },
  {
   "cell_type": "markdown",
   "metadata": {},
   "source": [
    "## Exercises: Level 3"
   ]
  },
  {
   "cell_type": "markdown",
   "metadata": {},
   "source": [
    "1.Loop through the countries and extract all the countries containing the word land."
   ]
  },
  {
   "cell_type": "code",
   "execution_count": 29,
   "metadata": {},
   "outputs": [
    {
     "name": "stdout",
     "output_type": "stream",
     "text": [
      "Countries containing 'land': ['Finland', 'Iceland', 'Switzerland', 'Thailand', 'Netherlands', 'Ireland', 'Poland', 'New Zealand', 'England', 'Scotland']\n"
     ]
    }
   ],
   "source": [
    "# List of countries (from countries.py)\n",
    "countries = [\n",
    "    'Finland', 'Iceland', 'Switzerland', 'Thailand', 'Netherlands',\n",
    "    'Ireland', 'Poland', 'New Zealand', 'England', 'Scotland'\n",
    "]\n",
    "\n",
    "# List to store countries containing 'land'\n",
    "countries_with_land = []\n",
    "\n",
    "# Loop through the countries\n",
    "for country in countries:\n",
    "    if 'land' in country.lower():  # Check if 'land' is in the country name\n",
    "        countries_with_land.append(country)\n",
    "\n",
    "# Print the results\n",
    "print(\"Countries containing 'land':\", countries_with_land)\n"
   ]
  },
  {
   "cell_type": "markdown",
   "metadata": {},
   "source": [
    "2.This is a fruit list, ['banana', 'orange', 'mango', 'lemon'] reverse the order using loop."
   ]
  },
  {
   "cell_type": "code",
   "execution_count": 33,
   "metadata": {},
   "outputs": [
    {
     "name": "stdout",
     "output_type": "stream",
     "text": [
      "Reversed fruit list: ['lemon', 'mango', 'orange', 'banana']\n"
     ]
    }
   ],
   "source": [
    "# fruit list\n",
    "fruits = ['banana', 'orange', 'mango', 'lemon']\n",
    "\n",
    "# empty list to store the reversed order\n",
    "reversed_fruits = []\n",
    "\n",
    "# Loop through the original list in reverse order\n",
    "for i in range(len(fruits) - 1, -1, -1): \n",
    "    reversed_fruits.append(fruits[i])\n",
    "\n",
    "print(\"Reversed fruit list:\", reversed_fruits)\n"
   ]
  }
 ],
 "metadata": {
  "kernelspec": {
   "display_name": "ArewaDs-Training",
   "language": "python",
   "name": "python3"
  },
  "language_info": {
   "codemirror_mode": {
    "name": "ipython",
    "version": 3
   },
   "file_extension": ".py",
   "mimetype": "text/x-python",
   "name": "python",
   "nbconvert_exporter": "python",
   "pygments_lexer": "ipython3",
   "version": "3.12.8"
  }
 },
 "nbformat": 4,
 "nbformat_minor": 2
}
